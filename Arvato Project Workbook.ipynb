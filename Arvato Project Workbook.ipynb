{
 "cells": [
  {
   "cell_type": "markdown",
   "metadata": {},
   "source": [
    "# Capstone Project: Create a Customer Segmentation Report for Arvato Financial Services\n",
    "\n",
    "In this project, you will analyze demographics data for customers of a mail-order sales company in Germany, comparing it against demographics information for the general population. You'll use unsupervised learning techniques to perform customer segmentation, identifying the parts of the population that best describe the core customer base of the company. Then, you'll apply what you've learned on a third dataset with demographics information for targets of a marketing campaign for the company, and use a model to predict which individuals are most likely to convert into becoming customers for the company. The data that you will use has been provided by our partners at Bertelsmann Arvato Analytics, and represents a real-life data science task.\n",
    "\n",
    "If you completed the first term of this program, you will be familiar with the first part of this project, from the unsupervised learning project. The versions of those two datasets used in this project will include many more features and has not been pre-cleaned. You are also free to choose whatever approach you'd like to analyzing the data rather than follow pre-determined steps. In your work on this project, make sure that you carefully document your steps and decisions, since your main deliverable for this project will be a blog post reporting your findings."
   ]
  },
  {
   "cell_type": "code",
   "execution_count": 3,
   "metadata": {},
   "outputs": [],
   "source": [
    "# import libraries here; add more as necessary\n",
    "import numpy as np\n",
    "import pandas as pd\n",
    "import matplotlib.pyplot as plt\n",
    "import seaborn as sns\n",
    "\n",
    "from sklearn.decomposition import PCA\n",
    "\n",
    "from sklearn.impute import SimpleImputer\n",
    "from sklearn.impute import KNNImputer\n",
    "from sklearn.preprocessing import StandardScaler\n",
    "\n",
    "from sklearn.cluster import KMeans\n",
    "\n",
    "# supervied learning\n",
    "from sklearn.linear_model import LogisticRegression\n",
    "from sklearn.tree import DecisionTreeClassifier\n",
    "from sklearn.ensemble import AdaBoostClassifier\n",
    "from sklearn.ensemble import RandomForestClassifier\n",
    "from sklearn.svm import SVC\n",
    "from sklearn.ensemble import GradientBoostingClassifier\n",
    "\n",
    "\n",
    "from sklearn.model_selection import GridSearchCV\n",
    "from sklearn.model_selection import cross_val_score\n",
    "\n",
    "from sklearn.calibration import calibration_curve\n",
    "\n",
    "from sklearn.model_selection import train_test_split\n",
    "\n",
    "\n",
    "# magic word for producing visualizations in notebook\n",
    "%matplotlib inline"
   ]
  },
  {
   "cell_type": "markdown",
   "metadata": {},
   "source": [
    "## Part 0: Get to Know the Data\n",
    "\n",
    "There are four data files associated with this project:\n",
    "\n",
    "- `Udacity_AZDIAS_052018.csv`: Demographics data for the general population of Germany; 891 211 persons (rows) x 366 features (columns).\n",
    "- `Udacity_CUSTOMERS_052018.csv`: Demographics data for customers of a mail-order company; 191 652 persons (rows) x 369 features (columns).\n",
    "- `Udacity_MAILOUT_052018_TRAIN.csv`: Demographics data for individuals who were targets of a marketing campaign; 42 982 persons (rows) x 367 (columns).\n",
    "- `Udacity_MAILOUT_052018_TEST.csv`: Demographics data for individuals who were targets of a marketing campaign; 42 833 persons (rows) x 366 (columns).\n",
    "\n",
    "Each row of the demographics files represents a single person, but also includes information outside of individuals, including information about their household, building, and neighborhood. Use the information from the first two files to figure out how customers (\"CUSTOMERS\") are similar to or differ from the general population at large (\"AZDIAS\"), then use your analysis to make predictions on the other two files (\"MAILOUT\"), predicting which recipients are most likely to become a customer for the mail-order company.\n",
    "\n",
    "The \"CUSTOMERS\" file contains three extra columns ('CUSTOMER_GROUP', 'ONLINE_PURCHASE', and 'PRODUCT_GROUP'), which provide broad information about the customers depicted in the file. The original \"MAILOUT\" file included one additional column, \"RESPONSE\", which indicated whether or not each recipient became a customer of the company. For the \"TRAIN\" subset, this column has been retained, but in the \"TEST\" subset it has been removed; it is against that withheld column that your final predictions will be assessed in the Kaggle competition.\n",
    "\n",
    "Otherwise, all of the remaining columns are the same between the three data files. For more information about the columns depicted in the files, you can refer to two Excel spreadsheets provided in the workspace. [One of them](./DIAS Information Levels - Attributes 2017.xlsx) is a top-level list of attributes and descriptions, organized by informational category. [The other](./DIAS Attributes - Values 2017.xlsx) is a detailed mapping of data values for each feature in alphabetical order.\n",
    "\n",
    "In the below cell, we've provided some initial code to load in the first two datasets. Note for all of the `.csv` data files in this project that they're semicolon (`;`) delimited, so an additional argument in the [`read_csv()`](https://pandas.pydata.org/pandas-docs/stable/generated/pandas.read_csv.html) call has been included to read in the data properly. Also, considering the size of the datasets, it may take some time for them to load completely.\n",
    "\n",
    "You'll notice when the data is loaded in that a warning message will immediately pop up. Before you really start digging into the modeling and analysis, you're going to need to perform some cleaning. Take some time to browse the structure of the data and look over the informational spreadsheets to understand the data values. Make some decisions on which features to keep, which features to drop, and if any revisions need to be made on data formats. It'll be a good idea to create a function with pre-processing steps, since you'll need to clean all of the datasets before you work with them."
   ]
  },
  {
   "cell_type": "code",
   "execution_count": 2,
   "metadata": {},
   "outputs": [],
   "source": [
    "# load in the data\n",
    "azdias = pd.read_csv('../../data/Term2/capstone/arvato_data/Udacity_AZDIAS_052018.csv', sep=';', low_memory=False)\n",
    "customers = pd.read_csv('../../data/Term2/capstone/arvato_data/Udacity_CUSTOMERS_052018.csv', sep=';', low_memory=False)"
   ]
  },
  {
   "cell_type": "markdown",
   "metadata": {},
   "source": [
    "At first, I will do some basic explorative data analysis to get a overview of the datasets. As a part of this I show the first few lines of the dataset as well as the dimensions."
   ]
  },
  {
   "cell_type": "code",
   "execution_count": 3,
   "metadata": {},
   "outputs": [
    {
     "data": {
      "text/plain": [
       "(891221, 366)"
      ]
     },
     "execution_count": 3,
     "metadata": {},
     "output_type": "execute_result"
    }
   ],
   "source": [
    "(azdias.shape)"
   ]
  },
  {
   "cell_type": "code",
   "execution_count": 4,
   "metadata": {},
   "outputs": [
    {
     "data": {
      "text/html": [
       "<div>\n",
       "<style scoped>\n",
       "    .dataframe tbody tr th:only-of-type {\n",
       "        vertical-align: middle;\n",
       "    }\n",
       "\n",
       "    .dataframe tbody tr th {\n",
       "        vertical-align: top;\n",
       "    }\n",
       "\n",
       "    .dataframe thead th {\n",
       "        text-align: right;\n",
       "    }\n",
       "</style>\n",
       "<table border=\"1\" class=\"dataframe\">\n",
       "  <thead>\n",
       "    <tr style=\"text-align: right;\">\n",
       "      <th></th>\n",
       "      <th>LNR</th>\n",
       "      <th>AGER_TYP</th>\n",
       "      <th>AKT_DAT_KL</th>\n",
       "      <th>ALTER_HH</th>\n",
       "      <th>ALTER_KIND1</th>\n",
       "      <th>ALTER_KIND2</th>\n",
       "      <th>ALTER_KIND3</th>\n",
       "      <th>ALTER_KIND4</th>\n",
       "      <th>ALTERSKATEGORIE_FEIN</th>\n",
       "      <th>ANZ_HAUSHALTE_AKTIV</th>\n",
       "      <th>...</th>\n",
       "      <th>VHN</th>\n",
       "      <th>VK_DHT4A</th>\n",
       "      <th>VK_DISTANZ</th>\n",
       "      <th>VK_ZG11</th>\n",
       "      <th>W_KEIT_KIND_HH</th>\n",
       "      <th>WOHNDAUER_2008</th>\n",
       "      <th>WOHNLAGE</th>\n",
       "      <th>ZABEOTYP</th>\n",
       "      <th>ANREDE_KZ</th>\n",
       "      <th>ALTERSKATEGORIE_GROB</th>\n",
       "    </tr>\n",
       "  </thead>\n",
       "  <tbody>\n",
       "    <tr>\n",
       "      <th>0</th>\n",
       "      <td>910215</td>\n",
       "      <td>-1</td>\n",
       "      <td>NaN</td>\n",
       "      <td>NaN</td>\n",
       "      <td>NaN</td>\n",
       "      <td>NaN</td>\n",
       "      <td>NaN</td>\n",
       "      <td>NaN</td>\n",
       "      <td>NaN</td>\n",
       "      <td>NaN</td>\n",
       "      <td>...</td>\n",
       "      <td>NaN</td>\n",
       "      <td>NaN</td>\n",
       "      <td>NaN</td>\n",
       "      <td>NaN</td>\n",
       "      <td>NaN</td>\n",
       "      <td>NaN</td>\n",
       "      <td>NaN</td>\n",
       "      <td>3</td>\n",
       "      <td>1</td>\n",
       "      <td>2</td>\n",
       "    </tr>\n",
       "    <tr>\n",
       "      <th>1</th>\n",
       "      <td>910220</td>\n",
       "      <td>-1</td>\n",
       "      <td>9.0</td>\n",
       "      <td>0.0</td>\n",
       "      <td>NaN</td>\n",
       "      <td>NaN</td>\n",
       "      <td>NaN</td>\n",
       "      <td>NaN</td>\n",
       "      <td>21.0</td>\n",
       "      <td>11.0</td>\n",
       "      <td>...</td>\n",
       "      <td>4.0</td>\n",
       "      <td>8.0</td>\n",
       "      <td>11.0</td>\n",
       "      <td>10.0</td>\n",
       "      <td>3.0</td>\n",
       "      <td>9.0</td>\n",
       "      <td>4.0</td>\n",
       "      <td>5</td>\n",
       "      <td>2</td>\n",
       "      <td>1</td>\n",
       "    </tr>\n",
       "    <tr>\n",
       "      <th>2</th>\n",
       "      <td>910225</td>\n",
       "      <td>-1</td>\n",
       "      <td>9.0</td>\n",
       "      <td>17.0</td>\n",
       "      <td>NaN</td>\n",
       "      <td>NaN</td>\n",
       "      <td>NaN</td>\n",
       "      <td>NaN</td>\n",
       "      <td>17.0</td>\n",
       "      <td>10.0</td>\n",
       "      <td>...</td>\n",
       "      <td>2.0</td>\n",
       "      <td>9.0</td>\n",
       "      <td>9.0</td>\n",
       "      <td>6.0</td>\n",
       "      <td>3.0</td>\n",
       "      <td>9.0</td>\n",
       "      <td>2.0</td>\n",
       "      <td>5</td>\n",
       "      <td>2</td>\n",
       "      <td>3</td>\n",
       "    </tr>\n",
       "    <tr>\n",
       "      <th>3</th>\n",
       "      <td>910226</td>\n",
       "      <td>2</td>\n",
       "      <td>1.0</td>\n",
       "      <td>13.0</td>\n",
       "      <td>NaN</td>\n",
       "      <td>NaN</td>\n",
       "      <td>NaN</td>\n",
       "      <td>NaN</td>\n",
       "      <td>13.0</td>\n",
       "      <td>1.0</td>\n",
       "      <td>...</td>\n",
       "      <td>0.0</td>\n",
       "      <td>7.0</td>\n",
       "      <td>10.0</td>\n",
       "      <td>11.0</td>\n",
       "      <td>NaN</td>\n",
       "      <td>9.0</td>\n",
       "      <td>7.0</td>\n",
       "      <td>3</td>\n",
       "      <td>2</td>\n",
       "      <td>4</td>\n",
       "    </tr>\n",
       "    <tr>\n",
       "      <th>4</th>\n",
       "      <td>910241</td>\n",
       "      <td>-1</td>\n",
       "      <td>1.0</td>\n",
       "      <td>20.0</td>\n",
       "      <td>NaN</td>\n",
       "      <td>NaN</td>\n",
       "      <td>NaN</td>\n",
       "      <td>NaN</td>\n",
       "      <td>14.0</td>\n",
       "      <td>3.0</td>\n",
       "      <td>...</td>\n",
       "      <td>2.0</td>\n",
       "      <td>3.0</td>\n",
       "      <td>5.0</td>\n",
       "      <td>4.0</td>\n",
       "      <td>2.0</td>\n",
       "      <td>9.0</td>\n",
       "      <td>3.0</td>\n",
       "      <td>4</td>\n",
       "      <td>1</td>\n",
       "      <td>3</td>\n",
       "    </tr>\n",
       "  </tbody>\n",
       "</table>\n",
       "<p>5 rows × 366 columns</p>\n",
       "</div>"
      ],
      "text/plain": [
       "      LNR  AGER_TYP  AKT_DAT_KL  ALTER_HH  ALTER_KIND1  ALTER_KIND2  \\\n",
       "0  910215        -1         NaN       NaN          NaN          NaN   \n",
       "1  910220        -1         9.0       0.0          NaN          NaN   \n",
       "2  910225        -1         9.0      17.0          NaN          NaN   \n",
       "3  910226         2         1.0      13.0          NaN          NaN   \n",
       "4  910241        -1         1.0      20.0          NaN          NaN   \n",
       "\n",
       "   ALTER_KIND3  ALTER_KIND4  ALTERSKATEGORIE_FEIN  ANZ_HAUSHALTE_AKTIV  \\\n",
       "0          NaN          NaN                   NaN                  NaN   \n",
       "1          NaN          NaN                  21.0                 11.0   \n",
       "2          NaN          NaN                  17.0                 10.0   \n",
       "3          NaN          NaN                  13.0                  1.0   \n",
       "4          NaN          NaN                  14.0                  3.0   \n",
       "\n",
       "          ...           VHN  VK_DHT4A  VK_DISTANZ  VK_ZG11  W_KEIT_KIND_HH  \\\n",
       "0         ...           NaN       NaN         NaN      NaN             NaN   \n",
       "1         ...           4.0       8.0        11.0     10.0             3.0   \n",
       "2         ...           2.0       9.0         9.0      6.0             3.0   \n",
       "3         ...           0.0       7.0        10.0     11.0             NaN   \n",
       "4         ...           2.0       3.0         5.0      4.0             2.0   \n",
       "\n",
       "   WOHNDAUER_2008  WOHNLAGE ZABEOTYP ANREDE_KZ ALTERSKATEGORIE_GROB  \n",
       "0             NaN       NaN        3         1                    2  \n",
       "1             9.0       4.0        5         2                    1  \n",
       "2             9.0       2.0        5         2                    3  \n",
       "3             9.0       7.0        3         2                    4  \n",
       "4             9.0       3.0        4         1                    3  \n",
       "\n",
       "[5 rows x 366 columns]"
      ]
     },
     "execution_count": 4,
     "metadata": {},
     "output_type": "execute_result"
    }
   ],
   "source": [
    "azdias.head()"
   ]
  },
  {
   "cell_type": "code",
   "execution_count": 5,
   "metadata": {},
   "outputs": [
    {
     "data": {
      "text/plain": [
       "(191652, 369)"
      ]
     },
     "execution_count": 5,
     "metadata": {},
     "output_type": "execute_result"
    }
   ],
   "source": [
    "(customers.shape)"
   ]
  },
  {
   "cell_type": "code",
   "execution_count": 6,
   "metadata": {},
   "outputs": [
    {
     "data": {
      "text/html": [
       "<div>\n",
       "<style scoped>\n",
       "    .dataframe tbody tr th:only-of-type {\n",
       "        vertical-align: middle;\n",
       "    }\n",
       "\n",
       "    .dataframe tbody tr th {\n",
       "        vertical-align: top;\n",
       "    }\n",
       "\n",
       "    .dataframe thead th {\n",
       "        text-align: right;\n",
       "    }\n",
       "</style>\n",
       "<table border=\"1\" class=\"dataframe\">\n",
       "  <thead>\n",
       "    <tr style=\"text-align: right;\">\n",
       "      <th></th>\n",
       "      <th>LNR</th>\n",
       "      <th>AGER_TYP</th>\n",
       "      <th>AKT_DAT_KL</th>\n",
       "      <th>ALTER_HH</th>\n",
       "      <th>ALTER_KIND1</th>\n",
       "      <th>ALTER_KIND2</th>\n",
       "      <th>ALTER_KIND3</th>\n",
       "      <th>ALTER_KIND4</th>\n",
       "      <th>ALTERSKATEGORIE_FEIN</th>\n",
       "      <th>ANZ_HAUSHALTE_AKTIV</th>\n",
       "      <th>...</th>\n",
       "      <th>VK_ZG11</th>\n",
       "      <th>W_KEIT_KIND_HH</th>\n",
       "      <th>WOHNDAUER_2008</th>\n",
       "      <th>WOHNLAGE</th>\n",
       "      <th>ZABEOTYP</th>\n",
       "      <th>PRODUCT_GROUP</th>\n",
       "      <th>CUSTOMER_GROUP</th>\n",
       "      <th>ONLINE_PURCHASE</th>\n",
       "      <th>ANREDE_KZ</th>\n",
       "      <th>ALTERSKATEGORIE_GROB</th>\n",
       "    </tr>\n",
       "  </thead>\n",
       "  <tbody>\n",
       "    <tr>\n",
       "      <th>0</th>\n",
       "      <td>9626</td>\n",
       "      <td>2</td>\n",
       "      <td>1.0</td>\n",
       "      <td>10.0</td>\n",
       "      <td>NaN</td>\n",
       "      <td>NaN</td>\n",
       "      <td>NaN</td>\n",
       "      <td>NaN</td>\n",
       "      <td>10.0</td>\n",
       "      <td>1.0</td>\n",
       "      <td>...</td>\n",
       "      <td>2.0</td>\n",
       "      <td>6.0</td>\n",
       "      <td>9.0</td>\n",
       "      <td>7.0</td>\n",
       "      <td>3</td>\n",
       "      <td>COSMETIC_AND_FOOD</td>\n",
       "      <td>MULTI_BUYER</td>\n",
       "      <td>0</td>\n",
       "      <td>1</td>\n",
       "      <td>4</td>\n",
       "    </tr>\n",
       "    <tr>\n",
       "      <th>1</th>\n",
       "      <td>9628</td>\n",
       "      <td>-1</td>\n",
       "      <td>9.0</td>\n",
       "      <td>11.0</td>\n",
       "      <td>NaN</td>\n",
       "      <td>NaN</td>\n",
       "      <td>NaN</td>\n",
       "      <td>NaN</td>\n",
       "      <td>NaN</td>\n",
       "      <td>NaN</td>\n",
       "      <td>...</td>\n",
       "      <td>3.0</td>\n",
       "      <td>0.0</td>\n",
       "      <td>9.0</td>\n",
       "      <td>NaN</td>\n",
       "      <td>3</td>\n",
       "      <td>FOOD</td>\n",
       "      <td>SINGLE_BUYER</td>\n",
       "      <td>0</td>\n",
       "      <td>1</td>\n",
       "      <td>4</td>\n",
       "    </tr>\n",
       "    <tr>\n",
       "      <th>2</th>\n",
       "      <td>143872</td>\n",
       "      <td>-1</td>\n",
       "      <td>1.0</td>\n",
       "      <td>6.0</td>\n",
       "      <td>NaN</td>\n",
       "      <td>NaN</td>\n",
       "      <td>NaN</td>\n",
       "      <td>NaN</td>\n",
       "      <td>0.0</td>\n",
       "      <td>1.0</td>\n",
       "      <td>...</td>\n",
       "      <td>11.0</td>\n",
       "      <td>6.0</td>\n",
       "      <td>9.0</td>\n",
       "      <td>2.0</td>\n",
       "      <td>3</td>\n",
       "      <td>COSMETIC_AND_FOOD</td>\n",
       "      <td>MULTI_BUYER</td>\n",
       "      <td>0</td>\n",
       "      <td>2</td>\n",
       "      <td>4</td>\n",
       "    </tr>\n",
       "    <tr>\n",
       "      <th>3</th>\n",
       "      <td>143873</td>\n",
       "      <td>1</td>\n",
       "      <td>1.0</td>\n",
       "      <td>8.0</td>\n",
       "      <td>NaN</td>\n",
       "      <td>NaN</td>\n",
       "      <td>NaN</td>\n",
       "      <td>NaN</td>\n",
       "      <td>8.0</td>\n",
       "      <td>0.0</td>\n",
       "      <td>...</td>\n",
       "      <td>2.0</td>\n",
       "      <td>NaN</td>\n",
       "      <td>9.0</td>\n",
       "      <td>7.0</td>\n",
       "      <td>1</td>\n",
       "      <td>COSMETIC</td>\n",
       "      <td>MULTI_BUYER</td>\n",
       "      <td>0</td>\n",
       "      <td>1</td>\n",
       "      <td>4</td>\n",
       "    </tr>\n",
       "    <tr>\n",
       "      <th>4</th>\n",
       "      <td>143874</td>\n",
       "      <td>-1</td>\n",
       "      <td>1.0</td>\n",
       "      <td>20.0</td>\n",
       "      <td>NaN</td>\n",
       "      <td>NaN</td>\n",
       "      <td>NaN</td>\n",
       "      <td>NaN</td>\n",
       "      <td>14.0</td>\n",
       "      <td>7.0</td>\n",
       "      <td>...</td>\n",
       "      <td>4.0</td>\n",
       "      <td>2.0</td>\n",
       "      <td>9.0</td>\n",
       "      <td>3.0</td>\n",
       "      <td>1</td>\n",
       "      <td>FOOD</td>\n",
       "      <td>MULTI_BUYER</td>\n",
       "      <td>0</td>\n",
       "      <td>1</td>\n",
       "      <td>3</td>\n",
       "    </tr>\n",
       "  </tbody>\n",
       "</table>\n",
       "<p>5 rows × 369 columns</p>\n",
       "</div>"
      ],
      "text/plain": [
       "      LNR  AGER_TYP  AKT_DAT_KL  ALTER_HH  ALTER_KIND1  ALTER_KIND2  \\\n",
       "0    9626         2         1.0      10.0          NaN          NaN   \n",
       "1    9628        -1         9.0      11.0          NaN          NaN   \n",
       "2  143872        -1         1.0       6.0          NaN          NaN   \n",
       "3  143873         1         1.0       8.0          NaN          NaN   \n",
       "4  143874        -1         1.0      20.0          NaN          NaN   \n",
       "\n",
       "   ALTER_KIND3  ALTER_KIND4  ALTERSKATEGORIE_FEIN  ANZ_HAUSHALTE_AKTIV  \\\n",
       "0          NaN          NaN                  10.0                  1.0   \n",
       "1          NaN          NaN                   NaN                  NaN   \n",
       "2          NaN          NaN                   0.0                  1.0   \n",
       "3          NaN          NaN                   8.0                  0.0   \n",
       "4          NaN          NaN                  14.0                  7.0   \n",
       "\n",
       "          ...           VK_ZG11  W_KEIT_KIND_HH  WOHNDAUER_2008  WOHNLAGE  \\\n",
       "0         ...               2.0             6.0             9.0       7.0   \n",
       "1         ...               3.0             0.0             9.0       NaN   \n",
       "2         ...              11.0             6.0             9.0       2.0   \n",
       "3         ...               2.0             NaN             9.0       7.0   \n",
       "4         ...               4.0             2.0             9.0       3.0   \n",
       "\n",
       "   ZABEOTYP      PRODUCT_GROUP  CUSTOMER_GROUP ONLINE_PURCHASE ANREDE_KZ  \\\n",
       "0         3  COSMETIC_AND_FOOD     MULTI_BUYER               0         1   \n",
       "1         3               FOOD    SINGLE_BUYER               0         1   \n",
       "2         3  COSMETIC_AND_FOOD     MULTI_BUYER               0         2   \n",
       "3         1           COSMETIC     MULTI_BUYER               0         1   \n",
       "4         1               FOOD     MULTI_BUYER               0         1   \n",
       "\n",
       "  ALTERSKATEGORIE_GROB  \n",
       "0                    4  \n",
       "1                    4  \n",
       "2                    4  \n",
       "3                    4  \n",
       "4                    3  \n",
       "\n",
       "[5 rows x 369 columns]"
      ]
     },
     "execution_count": 6,
     "metadata": {},
     "output_type": "execute_result"
    }
   ],
   "source": [
    "customers.head()"
   ]
  },
  {
   "cell_type": "markdown",
   "metadata": {},
   "source": [
    "The customers data set has 3 more columns:"
   ]
  },
  {
   "cell_type": "code",
   "execution_count": 7,
   "metadata": {},
   "outputs": [
    {
     "data": {
      "text/plain": [
       "{'CUSTOMER_GROUP', 'ONLINE_PURCHASE', 'PRODUCT_GROUP'}"
      ]
     },
     "execution_count": 7,
     "metadata": {},
     "output_type": "execute_result"
    }
   ],
   "source": [
    "customers_columns = {elem for elem in customers.columns}\n",
    "azdias_columns = {elem for elem in azdias.columns}\n",
    "\n",
    "customers_columns.difference(azdias_columns)"
   ]
  },
  {
   "cell_type": "markdown",
   "metadata": {},
   "source": [
    "Removing this columns from the customers data set to receive the same dimensions. Also drop column LNR as it is an index. "
   ]
  },
  {
   "cell_type": "code",
   "execution_count": 8,
   "metadata": {},
   "outputs": [],
   "source": [
    "customers.drop(['CUSTOMER_GROUP', 'ONLINE_PURCHASE', 'PRODUCT_GROUP', 'LNR'], axis=1, inplace = True)\n",
    "azdias.drop(['LNR'], axis=1, inplace = True)"
   ]
  },
  {
   "cell_type": "markdown",
   "metadata": {},
   "source": [
    "Using the infomartion provided by the DIAS Attributes excel file."
   ]
  },
  {
   "cell_type": "code",
   "execution_count": 9,
   "metadata": {},
   "outputs": [
    {
     "data": {
      "text/html": [
       "<div>\n",
       "<style scoped>\n",
       "    .dataframe tbody tr th:only-of-type {\n",
       "        vertical-align: middle;\n",
       "    }\n",
       "\n",
       "    .dataframe tbody tr th {\n",
       "        vertical-align: top;\n",
       "    }\n",
       "\n",
       "    .dataframe thead th {\n",
       "        text-align: right;\n",
       "    }\n",
       "</style>\n",
       "<table border=\"1\" class=\"dataframe\">\n",
       "  <thead>\n",
       "    <tr style=\"text-align: right;\">\n",
       "      <th></th>\n",
       "      <th>Attribute</th>\n",
       "      <th>Description</th>\n",
       "      <th>Value</th>\n",
       "      <th>Meaning</th>\n",
       "    </tr>\n",
       "  </thead>\n",
       "  <tbody>\n",
       "    <tr>\n",
       "      <th>0</th>\n",
       "      <td>AGER_TYP</td>\n",
       "      <td>best-ager typology</td>\n",
       "      <td>-1</td>\n",
       "      <td>unknown</td>\n",
       "    </tr>\n",
       "    <tr>\n",
       "      <th>1</th>\n",
       "      <td>NaN</td>\n",
       "      <td>NaN</td>\n",
       "      <td>0</td>\n",
       "      <td>no classification possible</td>\n",
       "    </tr>\n",
       "    <tr>\n",
       "      <th>2</th>\n",
       "      <td>NaN</td>\n",
       "      <td>NaN</td>\n",
       "      <td>1</td>\n",
       "      <td>passive elderly</td>\n",
       "    </tr>\n",
       "    <tr>\n",
       "      <th>3</th>\n",
       "      <td>NaN</td>\n",
       "      <td>NaN</td>\n",
       "      <td>2</td>\n",
       "      <td>cultural elderly</td>\n",
       "    </tr>\n",
       "    <tr>\n",
       "      <th>4</th>\n",
       "      <td>NaN</td>\n",
       "      <td>NaN</td>\n",
       "      <td>3</td>\n",
       "      <td>experience-driven elderly</td>\n",
       "    </tr>\n",
       "    <tr>\n",
       "      <th>5</th>\n",
       "      <td>ALTERSKATEGORIE_GROB</td>\n",
       "      <td>age classification through prename analysis</td>\n",
       "      <td>-1, 0</td>\n",
       "      <td>unknown</td>\n",
       "    </tr>\n",
       "    <tr>\n",
       "      <th>6</th>\n",
       "      <td>NaN</td>\n",
       "      <td>NaN</td>\n",
       "      <td>1</td>\n",
       "      <td>&lt; 30 years</td>\n",
       "    </tr>\n",
       "    <tr>\n",
       "      <th>7</th>\n",
       "      <td>NaN</td>\n",
       "      <td>NaN</td>\n",
       "      <td>2</td>\n",
       "      <td>30 - 45 years</td>\n",
       "    </tr>\n",
       "    <tr>\n",
       "      <th>8</th>\n",
       "      <td>NaN</td>\n",
       "      <td>NaN</td>\n",
       "      <td>3</td>\n",
       "      <td>46 - 60 years</td>\n",
       "    </tr>\n",
       "    <tr>\n",
       "      <th>9</th>\n",
       "      <td>NaN</td>\n",
       "      <td>NaN</td>\n",
       "      <td>4</td>\n",
       "      <td>&gt; 60 years</td>\n",
       "    </tr>\n",
       "    <tr>\n",
       "      <th>10</th>\n",
       "      <td>NaN</td>\n",
       "      <td>NaN</td>\n",
       "      <td>9</td>\n",
       "      <td>uniformly distributed</td>\n",
       "    </tr>\n",
       "    <tr>\n",
       "      <th>11</th>\n",
       "      <td>ALTER_HH</td>\n",
       "      <td>main age within the household</td>\n",
       "      <td>0</td>\n",
       "      <td>unknown / no main age detectable</td>\n",
       "    </tr>\n",
       "    <tr>\n",
       "      <th>12</th>\n",
       "      <td>NaN</td>\n",
       "      <td>NaN</td>\n",
       "      <td>1</td>\n",
       "      <td>01.01.1895 bis 31.12.1899</td>\n",
       "    </tr>\n",
       "    <tr>\n",
       "      <th>13</th>\n",
       "      <td>NaN</td>\n",
       "      <td>NaN</td>\n",
       "      <td>2</td>\n",
       "      <td>01.01.1900 bis 31.12.1904</td>\n",
       "    </tr>\n",
       "    <tr>\n",
       "      <th>14</th>\n",
       "      <td>NaN</td>\n",
       "      <td>NaN</td>\n",
       "      <td>3</td>\n",
       "      <td>01.01.1905 bis 31.12.1909</td>\n",
       "    </tr>\n",
       "    <tr>\n",
       "      <th>15</th>\n",
       "      <td>NaN</td>\n",
       "      <td>NaN</td>\n",
       "      <td>4</td>\n",
       "      <td>01.01.1910 bis 31.12.1914</td>\n",
       "    </tr>\n",
       "    <tr>\n",
       "      <th>16</th>\n",
       "      <td>NaN</td>\n",
       "      <td>NaN</td>\n",
       "      <td>5</td>\n",
       "      <td>01.01.1915 bis 31.12.1919</td>\n",
       "    </tr>\n",
       "    <tr>\n",
       "      <th>17</th>\n",
       "      <td>NaN</td>\n",
       "      <td>NaN</td>\n",
       "      <td>6</td>\n",
       "      <td>01.01.1920 bis 31.12.1924</td>\n",
       "    </tr>\n",
       "    <tr>\n",
       "      <th>18</th>\n",
       "      <td>NaN</td>\n",
       "      <td>NaN</td>\n",
       "      <td>7</td>\n",
       "      <td>01.01.1925 bis 31.12.1929</td>\n",
       "    </tr>\n",
       "    <tr>\n",
       "      <th>19</th>\n",
       "      <td>NaN</td>\n",
       "      <td>NaN</td>\n",
       "      <td>8</td>\n",
       "      <td>01.01.1930 bis 31.12.1934</td>\n",
       "    </tr>\n",
       "  </tbody>\n",
       "</table>\n",
       "</div>"
      ],
      "text/plain": [
       "               Attribute                                   Description  Value  \\\n",
       "0               AGER_TYP                            best-ager typology     -1   \n",
       "1                    NaN                                           NaN      0   \n",
       "2                    NaN                                           NaN      1   \n",
       "3                    NaN                                           NaN      2   \n",
       "4                    NaN                                           NaN      3   \n",
       "5   ALTERSKATEGORIE_GROB  age classification through prename analysis   -1, 0   \n",
       "6                    NaN                                           NaN      1   \n",
       "7                    NaN                                           NaN      2   \n",
       "8                    NaN                                           NaN      3   \n",
       "9                    NaN                                           NaN      4   \n",
       "10                   NaN                                           NaN      9   \n",
       "11              ALTER_HH                 main age within the household      0   \n",
       "12                   NaN                                           NaN      1   \n",
       "13                   NaN                                           NaN      2   \n",
       "14                   NaN                                           NaN      3   \n",
       "15                   NaN                                           NaN      4   \n",
       "16                   NaN                                           NaN      5   \n",
       "17                   NaN                                           NaN      6   \n",
       "18                   NaN                                           NaN      7   \n",
       "19                   NaN                                           NaN      8   \n",
       "\n",
       "                             Meaning  \n",
       "0                            unknown  \n",
       "1         no classification possible  \n",
       "2                    passive elderly  \n",
       "3                   cultural elderly  \n",
       "4          experience-driven elderly  \n",
       "5                            unknown  \n",
       "6                         < 30 years  \n",
       "7                      30 - 45 years  \n",
       "8                      46 - 60 years  \n",
       "9                         > 60 years  \n",
       "10             uniformly distributed  \n",
       "11  unknown / no main age detectable  \n",
       "12         01.01.1895 bis 31.12.1899  \n",
       "13         01.01.1900 bis 31.12.1904  \n",
       "14         01.01.1905 bis 31.12.1909  \n",
       "15         01.01.1910 bis 31.12.1914  \n",
       "16         01.01.1915 bis 31.12.1919  \n",
       "17         01.01.1920 bis 31.12.1924  \n",
       "18         01.01.1925 bis 31.12.1929  \n",
       "19         01.01.1930 bis 31.12.1934  "
      ]
     },
     "execution_count": 9,
     "metadata": {},
     "output_type": "execute_result"
    }
   ],
   "source": [
    "attributes_metdata = pd.read_excel('DIAS Attributes - Values 2017.xlsx')\n",
    "attributes_metdata.drop(['Unnamed: 0'], axis = 1, inplace = True)\n",
    "attributes_metdata.columns = [\"Attribute\", \"Description\", \"Value\", \"Meaning\"]\n",
    "attributes_metdata.head(n=20)"
   ]
  },
  {
   "cell_type": "markdown",
   "metadata": {},
   "source": [
    "Check how many attributes are given in that file. I subtract 1 because of the NaN value. "
   ]
  },
  {
   "cell_type": "code",
   "execution_count": 10,
   "metadata": {},
   "outputs": [
    {
     "data": {
      "text/plain": [
       "314"
      ]
     },
     "execution_count": 10,
     "metadata": {},
     "output_type": "execute_result"
    }
   ],
   "source": [
    "len(attributes_metdata['Attribute'].unique()) - 1"
   ]
  },
  {
   "cell_type": "markdown",
   "metadata": {},
   "source": [
    "So there are informations only for fewer attributes than in the data set. I decide to use only those attributes, that are contained in the DIAS Attributes file:"
   ]
  },
  {
   "cell_type": "code",
   "execution_count": 11,
   "metadata": {},
   "outputs": [],
   "source": [
    "attributes_columns = {elem for elem in attributes_metdata['Attribute']}\n",
    "columns_to_keep = azdias_columns.intersection(attributes_columns)\n",
    "columns_to_keep = [elem for elem in columns_to_keep]\n",
    "\n",
    "azdias = azdias[columns_to_keep]\n",
    "customers = customers[columns_to_keep]"
   ]
  },
  {
   "cell_type": "markdown",
   "metadata": {},
   "source": [
    "I filter also all attributes that end with \"GROB\" because there is no more information in these variables than in the corresponding \"FEIN\" variables. "
   ]
  },
  {
   "cell_type": "code",
   "execution_count": 12,
   "metadata": {},
   "outputs": [],
   "source": [
    "for col in azdias.columns:\n",
    "    if \"GROB\" in col:\n",
    "        azdias.drop([col], axis=1, inplace = True)\n",
    "        customers.drop([col], axis=1, inplace = True)"
   ]
  },
  {
   "cell_type": "code",
   "execution_count": 13,
   "metadata": {},
   "outputs": [
    {
     "data": {
      "text/plain": [
       "(891221, 268)"
      ]
     },
     "execution_count": 13,
     "metadata": {},
     "output_type": "execute_result"
    }
   ],
   "source": [
    "azdias.shape"
   ]
  },
  {
   "cell_type": "code",
   "execution_count": 14,
   "metadata": {},
   "outputs": [
    {
     "data": {
      "text/plain": [
       "(191652, 268)"
      ]
     },
     "execution_count": 14,
     "metadata": {},
     "output_type": "execute_result"
    }
   ],
   "source": [
    "customers.shape"
   ]
  },
  {
   "cell_type": "markdown",
   "metadata": {},
   "source": [
    "Now I want do extract the values with the meaning \"unknown\" or for example \"no score calculated\" from the DIAS Attributes file and set the corresponding values in the data frame to NaN. With this procedure I can a more realistic "
   ]
  },
  {
   "cell_type": "code",
   "execution_count": 15,
   "metadata": {},
   "outputs": [
    {
     "data": {
      "text/html": [
       "<div>\n",
       "<style scoped>\n",
       "    .dataframe tbody tr th:only-of-type {\n",
       "        vertical-align: middle;\n",
       "    }\n",
       "\n",
       "    .dataframe tbody tr th {\n",
       "        vertical-align: top;\n",
       "    }\n",
       "\n",
       "    .dataframe thead th {\n",
       "        text-align: right;\n",
       "    }\n",
       "</style>\n",
       "<table border=\"1\" class=\"dataframe\">\n",
       "  <thead>\n",
       "    <tr style=\"text-align: right;\">\n",
       "      <th></th>\n",
       "      <th>Attribute</th>\n",
       "      <th>Description</th>\n",
       "      <th>Value</th>\n",
       "      <th>Meaning</th>\n",
       "    </tr>\n",
       "  </thead>\n",
       "  <tbody>\n",
       "    <tr>\n",
       "      <th>0</th>\n",
       "      <td>AGER_TYP</td>\n",
       "      <td>best-ager typology</td>\n",
       "      <td>-1</td>\n",
       "      <td>unknown</td>\n",
       "    </tr>\n",
       "    <tr>\n",
       "      <th>5</th>\n",
       "      <td>ALTERSKATEGORIE_GROB</td>\n",
       "      <td>age classification through prename analysis</td>\n",
       "      <td>-1, 0</td>\n",
       "      <td>unknown</td>\n",
       "    </tr>\n",
       "    <tr>\n",
       "      <th>11</th>\n",
       "      <td>ALTER_HH</td>\n",
       "      <td>main age within the household</td>\n",
       "      <td>0</td>\n",
       "      <td>unknown / no main age detectable</td>\n",
       "    </tr>\n",
       "    <tr>\n",
       "      <th>33</th>\n",
       "      <td>ANREDE_KZ</td>\n",
       "      <td>gender</td>\n",
       "      <td>-1, 0</td>\n",
       "      <td>unknown</td>\n",
       "    </tr>\n",
       "    <tr>\n",
       "      <th>40</th>\n",
       "      <td>BALLRAUM</td>\n",
       "      <td>distance to next urban centre</td>\n",
       "      <td>-1</td>\n",
       "      <td>unknown</td>\n",
       "    </tr>\n",
       "    <tr>\n",
       "      <th>48</th>\n",
       "      <td>BIP_FLAG</td>\n",
       "      <td>business-flag indicating companies in the buil...</td>\n",
       "      <td>-1</td>\n",
       "      <td>unknown</td>\n",
       "    </tr>\n",
       "    <tr>\n",
       "      <th>51</th>\n",
       "      <td>CAMEO_DEUG_2015</td>\n",
       "      <td>CAMEO classification 2015 - Uppergroup</td>\n",
       "      <td>-1</td>\n",
       "      <td>unknown</td>\n",
       "    </tr>\n",
       "    <tr>\n",
       "      <th>105</th>\n",
       "      <td>CAMEO_DEUINTL_2015</td>\n",
       "      <td>CAMEO classification 2015 - international typo...</td>\n",
       "      <td>-1</td>\n",
       "      <td>unknown</td>\n",
       "    </tr>\n",
       "    <tr>\n",
       "      <th>131</th>\n",
       "      <td>CJT_GESAMTTYP</td>\n",
       "      <td>customer journey typology</td>\n",
       "      <td>0</td>\n",
       "      <td>unknown</td>\n",
       "    </tr>\n",
       "    <tr>\n",
       "      <th>391</th>\n",
       "      <td>D19_KK_KUNDENTYP</td>\n",
       "      <td>consumption movement in the last 12 months</td>\n",
       "      <td>-1</td>\n",
       "      <td>unknown</td>\n",
       "    </tr>\n",
       "    <tr>\n",
       "      <th>647</th>\n",
       "      <td>EWDICHTE</td>\n",
       "      <td>density of inhabitants per square kilometer</td>\n",
       "      <td>-1</td>\n",
       "      <td>unknown</td>\n",
       "    </tr>\n",
       "    <tr>\n",
       "      <th>654</th>\n",
       "      <td>FINANZTYP</td>\n",
       "      <td>best descirbing financial type for the person</td>\n",
       "      <td>-1</td>\n",
       "      <td>unknown</td>\n",
       "    </tr>\n",
       "    <tr>\n",
       "      <th>661</th>\n",
       "      <td>FINANZ_ANLEGER</td>\n",
       "      <td>financial typology: investor</td>\n",
       "      <td>-1</td>\n",
       "      <td>unknown</td>\n",
       "    </tr>\n",
       "    <tr>\n",
       "      <th>667</th>\n",
       "      <td>FINANZ_HAUSBAUER</td>\n",
       "      <td>financial typology: main focus is the own house</td>\n",
       "      <td>-1</td>\n",
       "      <td>unknown</td>\n",
       "    </tr>\n",
       "    <tr>\n",
       "      <th>673</th>\n",
       "      <td>FINANZ_MINIMALIST</td>\n",
       "      <td>financial typology: low financial interest</td>\n",
       "      <td>-1</td>\n",
       "      <td>unknown</td>\n",
       "    </tr>\n",
       "    <tr>\n",
       "      <th>679</th>\n",
       "      <td>FINANZ_SPARER</td>\n",
       "      <td>financial typology: money saver</td>\n",
       "      <td>-1</td>\n",
       "      <td>unknown</td>\n",
       "    </tr>\n",
       "    <tr>\n",
       "      <th>685</th>\n",
       "      <td>FINANZ_UNAUFFAELLIGER</td>\n",
       "      <td>financial typology: unremarkable</td>\n",
       "      <td>-1</td>\n",
       "      <td>unknown</td>\n",
       "    </tr>\n",
       "    <tr>\n",
       "      <th>691</th>\n",
       "      <td>FINANZ_VORSORGER</td>\n",
       "      <td>financial typology: be prepared</td>\n",
       "      <td>-1</td>\n",
       "      <td>unknown</td>\n",
       "    </tr>\n",
       "    <tr>\n",
       "      <th>697</th>\n",
       "      <td>GEBAEUDETYP</td>\n",
       "      <td>type of building (residential or commercial)</td>\n",
       "      <td>-1, 0</td>\n",
       "      <td>unknown</td>\n",
       "    </tr>\n",
       "    <tr>\n",
       "      <th>724</th>\n",
       "      <td>GEOSCORE_KLS7</td>\n",
       "      <td>microgeographical risk index concerning popula...</td>\n",
       "      <td>-1, 0</td>\n",
       "      <td>unknown</td>\n",
       "    </tr>\n",
       "    <tr>\n",
       "      <th>734</th>\n",
       "      <td>HAUSHALTSSTRUKTUR</td>\n",
       "      <td>structure of the household (single-hh, couple ...</td>\n",
       "      <td>-1, 0</td>\n",
       "      <td>unknown</td>\n",
       "    </tr>\n",
       "    <tr>\n",
       "      <th>744</th>\n",
       "      <td>HEALTH_TYP</td>\n",
       "      <td>health typology</td>\n",
       "      <td>-1</td>\n",
       "      <td>unknown</td>\n",
       "    </tr>\n",
       "    <tr>\n",
       "      <th>749</th>\n",
       "      <td>HH_EINKOMMEN_SCORE</td>\n",
       "      <td>estimated household net income</td>\n",
       "      <td>-1, 0</td>\n",
       "      <td>unknown</td>\n",
       "    </tr>\n",
       "    <tr>\n",
       "      <th>756</th>\n",
       "      <td>INNENSTADT</td>\n",
       "      <td>distance to the city centre</td>\n",
       "      <td>-1</td>\n",
       "      <td>unknown</td>\n",
       "    </tr>\n",
       "    <tr>\n",
       "      <th>765</th>\n",
       "      <td>KBA05_ALTER1</td>\n",
       "      <td>share of car owners less than 31 years old</td>\n",
       "      <td>-1, 9</td>\n",
       "      <td>unknown</td>\n",
       "    </tr>\n",
       "    <tr>\n",
       "      <th>771</th>\n",
       "      <td>KBA05_ALTER2</td>\n",
       "      <td>share of car owners inbetween 31 and 45 years ...</td>\n",
       "      <td>-1, 9</td>\n",
       "      <td>unknown</td>\n",
       "    </tr>\n",
       "    <tr>\n",
       "      <th>777</th>\n",
       "      <td>KBA05_ALTER3</td>\n",
       "      <td>share of car owners inbetween 45 and 60 years ...</td>\n",
       "      <td>-1, 9</td>\n",
       "      <td>unknown</td>\n",
       "    </tr>\n",
       "    <tr>\n",
       "      <th>783</th>\n",
       "      <td>KBA05_ALTER4</td>\n",
       "      <td>share of cars owners elder than 61 years</td>\n",
       "      <td>-1, 9</td>\n",
       "      <td>unknown</td>\n",
       "    </tr>\n",
       "    <tr>\n",
       "      <th>790</th>\n",
       "      <td>KBA05_ANHANG</td>\n",
       "      <td>share of trailers in the microcell</td>\n",
       "      <td>-1, 9</td>\n",
       "      <td>unknown</td>\n",
       "    </tr>\n",
       "    <tr>\n",
       "      <th>795</th>\n",
       "      <td>KBA05_ANTG1</td>\n",
       "      <td>number of 1-2 family houses in the cell</td>\n",
       "      <td>-1</td>\n",
       "      <td>unknown</td>\n",
       "    </tr>\n",
       "    <tr>\n",
       "      <th>...</th>\n",
       "      <td>...</td>\n",
       "      <td>...</td>\n",
       "      <td>...</td>\n",
       "      <td>...</td>\n",
       "    </tr>\n",
       "    <tr>\n",
       "      <th>2033</th>\n",
       "      <td>PLZ8_ANTG4</td>\n",
       "      <td>number of &gt;10 family houses in the PLZ8</td>\n",
       "      <td>-1</td>\n",
       "      <td>unknown</td>\n",
       "    </tr>\n",
       "    <tr>\n",
       "      <th>2042</th>\n",
       "      <td>PLZ8_GBZ</td>\n",
       "      <td>number of buildings within the PLZ8</td>\n",
       "      <td>-1</td>\n",
       "      <td>unknown</td>\n",
       "    </tr>\n",
       "    <tr>\n",
       "      <th>2048</th>\n",
       "      <td>PLZ8_HHZ</td>\n",
       "      <td>number of households within the PLZ8</td>\n",
       "      <td>-1</td>\n",
       "      <td>unknown</td>\n",
       "    </tr>\n",
       "    <tr>\n",
       "      <th>2054</th>\n",
       "      <td>PRAEGENDE_JUGENDJAHRE</td>\n",
       "      <td>dominating movement in the person's youth (ava...</td>\n",
       "      <td>-1, 0</td>\n",
       "      <td>unknown</td>\n",
       "    </tr>\n",
       "    <tr>\n",
       "      <th>2070</th>\n",
       "      <td>REGIOTYP</td>\n",
       "      <td>neighbourhood</td>\n",
       "      <td>-1, 0</td>\n",
       "      <td>unknown</td>\n",
       "    </tr>\n",
       "    <tr>\n",
       "      <th>2083</th>\n",
       "      <td>RELAT_AB</td>\n",
       "      <td>NaN</td>\n",
       "      <td>-1, 9</td>\n",
       "      <td>unknown</td>\n",
       "    </tr>\n",
       "    <tr>\n",
       "      <th>2084</th>\n",
       "      <td>RETOURTYP_BK_S</td>\n",
       "      <td>return type</td>\n",
       "      <td>0</td>\n",
       "      <td>unknown</td>\n",
       "    </tr>\n",
       "    <tr>\n",
       "      <th>2090</th>\n",
       "      <td>SEMIO_DOM</td>\n",
       "      <td>affinity indicating in what way the person is ...</td>\n",
       "      <td>-1, 9</td>\n",
       "      <td>unknown</td>\n",
       "    </tr>\n",
       "    <tr>\n",
       "      <th>2098</th>\n",
       "      <td>SEMIO_ERL</td>\n",
       "      <td>affinity indicating in what way the person is ...</td>\n",
       "      <td>-1, 9</td>\n",
       "      <td>unknown</td>\n",
       "    </tr>\n",
       "    <tr>\n",
       "      <th>2106</th>\n",
       "      <td>SEMIO_FAM</td>\n",
       "      <td>affinity indicating in what way the person is ...</td>\n",
       "      <td>-1, 9</td>\n",
       "      <td>unknown</td>\n",
       "    </tr>\n",
       "    <tr>\n",
       "      <th>2114</th>\n",
       "      <td>SEMIO_KAEM</td>\n",
       "      <td>affinity indicating in what way the person is ...</td>\n",
       "      <td>-1, 9</td>\n",
       "      <td>unknown</td>\n",
       "    </tr>\n",
       "    <tr>\n",
       "      <th>2122</th>\n",
       "      <td>SEMIO_KRIT</td>\n",
       "      <td>affinity indicating in what way the person is ...</td>\n",
       "      <td>-1, 9</td>\n",
       "      <td>unknown</td>\n",
       "    </tr>\n",
       "    <tr>\n",
       "      <th>2130</th>\n",
       "      <td>SEMIO_KULT</td>\n",
       "      <td>affinity indicating in what way the person is ...</td>\n",
       "      <td>-1, 9</td>\n",
       "      <td>unknown</td>\n",
       "    </tr>\n",
       "    <tr>\n",
       "      <th>2138</th>\n",
       "      <td>SEMIO_LUST</td>\n",
       "      <td>affinity indicating in what way the person is ...</td>\n",
       "      <td>-1, 9</td>\n",
       "      <td>unknown</td>\n",
       "    </tr>\n",
       "    <tr>\n",
       "      <th>2146</th>\n",
       "      <td>SEMIO_MAT</td>\n",
       "      <td>affinity indicating in what way the person is ...</td>\n",
       "      <td>-1, 9</td>\n",
       "      <td>unknown</td>\n",
       "    </tr>\n",
       "    <tr>\n",
       "      <th>2154</th>\n",
       "      <td>SEMIO_PFLICHT</td>\n",
       "      <td>affinity indicating in what way the person is ...</td>\n",
       "      <td>-1, 9</td>\n",
       "      <td>unknown</td>\n",
       "    </tr>\n",
       "    <tr>\n",
       "      <th>2162</th>\n",
       "      <td>SEMIO_RAT</td>\n",
       "      <td>affinity indicating in what way the person is ...</td>\n",
       "      <td>-1, 9</td>\n",
       "      <td>unknown</td>\n",
       "    </tr>\n",
       "    <tr>\n",
       "      <th>2170</th>\n",
       "      <td>SEMIO_REL</td>\n",
       "      <td>affinity indicating in what way the person is ...</td>\n",
       "      <td>-1, 9</td>\n",
       "      <td>unknown</td>\n",
       "    </tr>\n",
       "    <tr>\n",
       "      <th>2178</th>\n",
       "      <td>SEMIO_SOZ</td>\n",
       "      <td>affinity indicating in what way the person is ...</td>\n",
       "      <td>-1, 9</td>\n",
       "      <td>unknown</td>\n",
       "    </tr>\n",
       "    <tr>\n",
       "      <th>2186</th>\n",
       "      <td>SEMIO_TRADV</td>\n",
       "      <td>affinity indicating in what way the person is ...</td>\n",
       "      <td>-1, 9</td>\n",
       "      <td>unknown</td>\n",
       "    </tr>\n",
       "    <tr>\n",
       "      <th>2194</th>\n",
       "      <td>SEMIO_VERT</td>\n",
       "      <td>affinity indicating in what way the person is ...</td>\n",
       "      <td>-1, 9</td>\n",
       "      <td>unknown</td>\n",
       "    </tr>\n",
       "    <tr>\n",
       "      <th>2202</th>\n",
       "      <td>SHOPPER_TYP</td>\n",
       "      <td>shopping typology</td>\n",
       "      <td>-1</td>\n",
       "      <td>unknown</td>\n",
       "    </tr>\n",
       "    <tr>\n",
       "      <th>2207</th>\n",
       "      <td>SOHO_FLAG</td>\n",
       "      <td>small office/home office flag</td>\n",
       "      <td>-1</td>\n",
       "      <td>unknown</td>\n",
       "    </tr>\n",
       "    <tr>\n",
       "      <th>2210</th>\n",
       "      <td>TITEL_KZ</td>\n",
       "      <td>flag whether this person holds an academic title</td>\n",
       "      <td>-1, 0</td>\n",
       "      <td>unknown</td>\n",
       "    </tr>\n",
       "    <tr>\n",
       "      <th>2216</th>\n",
       "      <td>VERS_TYP</td>\n",
       "      <td>insurance typology</td>\n",
       "      <td>-1</td>\n",
       "      <td>unknown</td>\n",
       "    </tr>\n",
       "    <tr>\n",
       "      <th>2219</th>\n",
       "      <td>WOHNDAUER_2008</td>\n",
       "      <td>length of residence</td>\n",
       "      <td>-1, 0</td>\n",
       "      <td>unknown</td>\n",
       "    </tr>\n",
       "    <tr>\n",
       "      <th>2229</th>\n",
       "      <td>WOHNLAGE</td>\n",
       "      <td>residential-area</td>\n",
       "      <td>-1</td>\n",
       "      <td>unknown</td>\n",
       "    </tr>\n",
       "    <tr>\n",
       "      <th>2238</th>\n",
       "      <td>WACHSTUMSGEBIET_NB</td>\n",
       "      <td>growing area (population growth in the last 5 ...</td>\n",
       "      <td>-1, 0</td>\n",
       "      <td>unknown</td>\n",
       "    </tr>\n",
       "    <tr>\n",
       "      <th>2244</th>\n",
       "      <td>W_KEIT_KIND_HH</td>\n",
       "      <td>likelihood of a child present in this household</td>\n",
       "      <td>-1, 0</td>\n",
       "      <td>unknown</td>\n",
       "    </tr>\n",
       "    <tr>\n",
       "      <th>2251</th>\n",
       "      <td>ZABEOTYP</td>\n",
       "      <td>typification of energy consumers</td>\n",
       "      <td>-1, 9</td>\n",
       "      <td>unknown</td>\n",
       "    </tr>\n",
       "  </tbody>\n",
       "</table>\n",
       "<p>233 rows × 4 columns</p>\n",
       "</div>"
      ],
      "text/plain": [
       "                  Attribute  \\\n",
       "0                  AGER_TYP   \n",
       "5      ALTERSKATEGORIE_GROB   \n",
       "11                 ALTER_HH   \n",
       "33                ANREDE_KZ   \n",
       "40                 BALLRAUM   \n",
       "48                 BIP_FLAG   \n",
       "51          CAMEO_DEUG_2015   \n",
       "105      CAMEO_DEUINTL_2015   \n",
       "131           CJT_GESAMTTYP   \n",
       "391        D19_KK_KUNDENTYP   \n",
       "647                EWDICHTE   \n",
       "654               FINANZTYP   \n",
       "661          FINANZ_ANLEGER   \n",
       "667        FINANZ_HAUSBAUER   \n",
       "673       FINANZ_MINIMALIST   \n",
       "679           FINANZ_SPARER   \n",
       "685   FINANZ_UNAUFFAELLIGER   \n",
       "691        FINANZ_VORSORGER   \n",
       "697             GEBAEUDETYP   \n",
       "724           GEOSCORE_KLS7   \n",
       "734       HAUSHALTSSTRUKTUR   \n",
       "744              HEALTH_TYP   \n",
       "749      HH_EINKOMMEN_SCORE   \n",
       "756              INNENSTADT   \n",
       "765            KBA05_ALTER1   \n",
       "771            KBA05_ALTER2   \n",
       "777            KBA05_ALTER3   \n",
       "783            KBA05_ALTER4   \n",
       "790            KBA05_ANHANG   \n",
       "795             KBA05_ANTG1   \n",
       "...                     ...   \n",
       "2033             PLZ8_ANTG4   \n",
       "2042               PLZ8_GBZ   \n",
       "2048               PLZ8_HHZ   \n",
       "2054  PRAEGENDE_JUGENDJAHRE   \n",
       "2070               REGIOTYP   \n",
       "2083               RELAT_AB   \n",
       "2084         RETOURTYP_BK_S   \n",
       "2090              SEMIO_DOM   \n",
       "2098              SEMIO_ERL   \n",
       "2106              SEMIO_FAM   \n",
       "2114             SEMIO_KAEM   \n",
       "2122             SEMIO_KRIT   \n",
       "2130             SEMIO_KULT   \n",
       "2138             SEMIO_LUST   \n",
       "2146              SEMIO_MAT   \n",
       "2154          SEMIO_PFLICHT   \n",
       "2162              SEMIO_RAT   \n",
       "2170              SEMIO_REL   \n",
       "2178              SEMIO_SOZ   \n",
       "2186            SEMIO_TRADV   \n",
       "2194             SEMIO_VERT   \n",
       "2202            SHOPPER_TYP   \n",
       "2207              SOHO_FLAG   \n",
       "2210               TITEL_KZ   \n",
       "2216               VERS_TYP   \n",
       "2219         WOHNDAUER_2008   \n",
       "2229               WOHNLAGE   \n",
       "2238     WACHSTUMSGEBIET_NB   \n",
       "2244         W_KEIT_KIND_HH   \n",
       "2251               ZABEOTYP   \n",
       "\n",
       "                                            Description  Value  \\\n",
       "0                                    best-ager typology     -1   \n",
       "5          age classification through prename analysis   -1, 0   \n",
       "11                        main age within the household      0   \n",
       "33                                               gender  -1, 0   \n",
       "40                       distance to next urban centre      -1   \n",
       "48    business-flag indicating companies in the buil...     -1   \n",
       "51               CAMEO classification 2015 - Uppergroup     -1   \n",
       "105   CAMEO classification 2015 - international typo...     -1   \n",
       "131                           customer journey typology      0   \n",
       "391          consumption movement in the last 12 months     -1   \n",
       "647         density of inhabitants per square kilometer     -1   \n",
       "654       best descirbing financial type for the person     -1   \n",
       "661                        financial typology: investor     -1   \n",
       "667     financial typology: main focus is the own house     -1   \n",
       "673          financial typology: low financial interest     -1   \n",
       "679                     financial typology: money saver     -1   \n",
       "685                    financial typology: unremarkable     -1   \n",
       "691                     financial typology: be prepared     -1   \n",
       "697        type of building (residential or commercial)  -1, 0   \n",
       "724   microgeographical risk index concerning popula...  -1, 0   \n",
       "734   structure of the household (single-hh, couple ...  -1, 0   \n",
       "744                                     health typology     -1   \n",
       "749                     estimated household net income   -1, 0   \n",
       "756                         distance to the city centre     -1   \n",
       "765          share of car owners less than 31 years old  -1, 9   \n",
       "771   share of car owners inbetween 31 and 45 years ...  -1, 9   \n",
       "777   share of car owners inbetween 45 and 60 years ...  -1, 9   \n",
       "783            share of cars owners elder than 61 years  -1, 9   \n",
       "790                  share of trailers in the microcell  -1, 9   \n",
       "795             number of 1-2 family houses in the cell     -1   \n",
       "...                                                 ...    ...   \n",
       "2033            number of >10 family houses in the PLZ8     -1   \n",
       "2042                number of buildings within the PLZ8     -1   \n",
       "2048               number of households within the PLZ8     -1   \n",
       "2054  dominating movement in the person's youth (ava...  -1, 0   \n",
       "2070                                     neighbourhood   -1, 0   \n",
       "2083                                                NaN  -1, 9   \n",
       "2084                                        return type      0   \n",
       "2090  affinity indicating in what way the person is ...  -1, 9   \n",
       "2098  affinity indicating in what way the person is ...  -1, 9   \n",
       "2106  affinity indicating in what way the person is ...  -1, 9   \n",
       "2114  affinity indicating in what way the person is ...  -1, 9   \n",
       "2122  affinity indicating in what way the person is ...  -1, 9   \n",
       "2130  affinity indicating in what way the person is ...  -1, 9   \n",
       "2138  affinity indicating in what way the person is ...  -1, 9   \n",
       "2146  affinity indicating in what way the person is ...  -1, 9   \n",
       "2154  affinity indicating in what way the person is ...  -1, 9   \n",
       "2162  affinity indicating in what way the person is ...  -1, 9   \n",
       "2170  affinity indicating in what way the person is ...  -1, 9   \n",
       "2178  affinity indicating in what way the person is ...  -1, 9   \n",
       "2186  affinity indicating in what way the person is ...  -1, 9   \n",
       "2194  affinity indicating in what way the person is ...  -1, 9   \n",
       "2202                                  shopping typology     -1   \n",
       "2207                      small office/home office flag     -1   \n",
       "2210   flag whether this person holds an academic title  -1, 0   \n",
       "2216                                insurance typology      -1   \n",
       "2219                                length of residence  -1, 0   \n",
       "2229                                  residential-area      -1   \n",
       "2238  growing area (population growth in the last 5 ...  -1, 0   \n",
       "2244    likelihood of a child present in this household  -1, 0   \n",
       "2251                   typification of energy consumers  -1, 9   \n",
       "\n",
       "                               Meaning  \n",
       "0                              unknown  \n",
       "5                              unknown  \n",
       "11    unknown / no main age detectable  \n",
       "33                             unknown  \n",
       "40                             unknown  \n",
       "48                             unknown  \n",
       "51                             unknown  \n",
       "105                            unknown  \n",
       "131                            unknown  \n",
       "391                            unknown  \n",
       "647                            unknown  \n",
       "654                            unknown  \n",
       "661                            unknown  \n",
       "667                            unknown  \n",
       "673                            unknown  \n",
       "679                            unknown  \n",
       "685                            unknown  \n",
       "691                            unknown  \n",
       "697                            unknown  \n",
       "724                            unknown  \n",
       "734                            unknown  \n",
       "744                            unknown  \n",
       "749                            unknown  \n",
       "756                            unknown  \n",
       "765                            unknown  \n",
       "771                            unknown  \n",
       "777                            unknown  \n",
       "783                            unknown  \n",
       "790                            unknown  \n",
       "795                            unknown  \n",
       "...                                ...  \n",
       "2033                           unknown  \n",
       "2042                           unknown  \n",
       "2048                           unknown  \n",
       "2054                           unknown  \n",
       "2070                           unknown  \n",
       "2083                           unknown  \n",
       "2084                           unknown  \n",
       "2090                           unknown  \n",
       "2098                           unknown  \n",
       "2106                           unknown  \n",
       "2114                           unknown  \n",
       "2122                           unknown  \n",
       "2130                           unknown  \n",
       "2138                           unknown  \n",
       "2146                           unknown  \n",
       "2154                           unknown  \n",
       "2162                           unknown  \n",
       "2170                           unknown  \n",
       "2178                           unknown  \n",
       "2186                           unknown  \n",
       "2194                           unknown  \n",
       "2202                           unknown  \n",
       "2207                           unknown  \n",
       "2210                           unknown  \n",
       "2216                           unknown  \n",
       "2219                           unknown  \n",
       "2229                           unknown  \n",
       "2238                           unknown  \n",
       "2244                           unknown  \n",
       "2251                           unknown  \n",
       "\n",
       "[233 rows x 4 columns]"
      ]
     },
     "execution_count": 15,
     "metadata": {},
     "output_type": "execute_result"
    }
   ],
   "source": [
    "attributes_metdata['Attribute'] = attributes_metdata['Attribute'].fillna(method='ffill')\n",
    "mask =  ~attributes_metdata['Meaning'].isnull() & attributes_metdata['Meaning'].str.contains(\"unknown\") \n",
    "attributes_metdata[mask]"
   ]
  },
  {
   "cell_type": "markdown",
   "metadata": {},
   "source": [
    "Extracting the values for the unkown meaning"
   ]
  },
  {
   "cell_type": "code",
   "execution_count": 16,
   "metadata": {},
   "outputs": [
    {
     "data": {
      "text/plain": [
       "{'AGER_TYP': [-1],\n",
       " 'ALTERSKATEGORIE_GROB': [-1, 0],\n",
       " 'ALTER_HH': [0],\n",
       " 'ANREDE_KZ': [-1, 0],\n",
       " 'BALLRAUM': [-1],\n",
       " 'BIP_FLAG': [-1],\n",
       " 'CAMEO_DEUG_2015': [-1],\n",
       " 'CAMEO_DEUINTL_2015': [-1],\n",
       " 'CJT_GESAMTTYP': [0],\n",
       " 'D19_KK_KUNDENTYP': [-1],\n",
       " 'EWDICHTE': [-1],\n",
       " 'FINANZTYP': [-1],\n",
       " 'FINANZ_ANLEGER': [-1],\n",
       " 'FINANZ_HAUSBAUER': [-1],\n",
       " 'FINANZ_MINIMALIST': [-1],\n",
       " 'FINANZ_SPARER': [-1],\n",
       " 'FINANZ_UNAUFFAELLIGER': [-1],\n",
       " 'FINANZ_VORSORGER': [-1],\n",
       " 'GEBAEUDETYP': [-1, 0],\n",
       " 'GEOSCORE_KLS7': [-1, 0],\n",
       " 'HAUSHALTSSTRUKTUR': [-1, 0],\n",
       " 'HEALTH_TYP': [-1],\n",
       " 'HH_EINKOMMEN_SCORE': [-1, 0],\n",
       " 'INNENSTADT': [-1],\n",
       " 'KBA05_ALTER1': [-1, 9],\n",
       " 'KBA05_ALTER2': [-1, 9],\n",
       " 'KBA05_ALTER3': [-1, 9],\n",
       " 'KBA05_ALTER4': [-1, 9],\n",
       " 'KBA05_ANHANG': [-1, 9],\n",
       " 'KBA05_ANTG1': [-1],\n",
       " 'KBA05_ANTG2': [-1],\n",
       " 'KBA05_ANTG3': [-1],\n",
       " 'KBA05_ANTG4': [-1],\n",
       " 'KBA05_AUTOQUOT': [-1, 9],\n",
       " 'KBA05_BAUMAX': [-1, 0],\n",
       " 'KBA05_CCM1': [-1, 9],\n",
       " 'KBA05_CCM2': [-1, 9],\n",
       " 'KBA05_CCM3': [-1, 9],\n",
       " 'KBA05_CCM4': [-1, 9],\n",
       " 'KBA05_DIESEL': [-1, 9],\n",
       " 'KBA05_FRAU': [-1, 9],\n",
       " 'KBA05_GBZ': [-1, 0],\n",
       " 'KBA05_HERST1': [-1, 9],\n",
       " 'KBA05_HERST2': [-1, 9],\n",
       " 'KBA05_HERST3': [-1, 9],\n",
       " 'KBA05_HERST4': [-1, 9],\n",
       " 'KBA05_HERST5': [-1, 9],\n",
       " 'KBA05_HERSTTEMP': [-1, 9],\n",
       " 'KBA05_KRSAQUOT': [-1, 9],\n",
       " 'KBA05_KRSHERST1': [-1, 9],\n",
       " 'KBA05_KRSHERST2': [-1, 9],\n",
       " 'KBA05_KRSHERST3': [-1, 9],\n",
       " 'KBA05_KRSKLEIN': [-1, 9],\n",
       " 'KBA05_KRSOBER': [-1, 9],\n",
       " 'KBA05_KRSVAN': [-1, 9],\n",
       " 'KBA05_KRSZUL': [-1, 9],\n",
       " 'KBA05_KW1': [-1, 9],\n",
       " 'KBA05_KW2': [-1, 9],\n",
       " 'KBA05_KW3': [-1, 9],\n",
       " 'KBA05_MAXAH': [-1, 9],\n",
       " 'KBA05_MAXBJ': [-1, 9],\n",
       " 'KBA05_MAXHERST': [-1, 9],\n",
       " 'KBA05_MAXSEG': [-1, 9],\n",
       " 'KBA05_MAXVORB': [-1, 9],\n",
       " 'KBA05_MOD1': [-1, 9],\n",
       " 'KBA05_MOD2': [-1, 9],\n",
       " 'KBA05_MOD3': [-1, 9],\n",
       " 'KBA05_MOD4': [-1, 9],\n",
       " 'KBA05_MOD8': [-1, 9],\n",
       " 'KBA05_MODTEMP': [-1, 9],\n",
       " 'KBA05_MOTOR': [-1, 9],\n",
       " 'KBA05_MOTRAD': [-1, 9],\n",
       " 'KBA05_SEG1': [-1, 9],\n",
       " 'KBA05_SEG10': [-1, 9],\n",
       " 'KBA05_SEG2': [-1, 9],\n",
       " 'KBA05_SEG3': [-1, 9],\n",
       " 'KBA05_SEG4': [-1, 9],\n",
       " 'KBA05_SEG5': [-1, 9],\n",
       " 'KBA05_SEG6': [-1, 9],\n",
       " 'KBA05_SEG7': [-1, 9],\n",
       " 'KBA05_SEG8': [-1, 9],\n",
       " 'KBA05_SEG9': [-1, 9],\n",
       " 'KBA05_VORB0': [-1, 9],\n",
       " 'KBA05_VORB1': [-1, 9],\n",
       " 'KBA05_VORB2': [-1, 9],\n",
       " 'KBA05_ZUL1': [-1, 9],\n",
       " 'KBA05_ZUL2': [-1, 9],\n",
       " 'KBA05_ZUL3': [-1, 9],\n",
       " 'KBA05_ZUL4': [-1, 9],\n",
       " 'KBA13_ALTERHALTER_30': [-1],\n",
       " 'KBA13_ALTERHALTER_45': [-1],\n",
       " 'KBA13_ALTERHALTER_60': [-1],\n",
       " 'KBA13_ALTERHALTER_61': [-1],\n",
       " 'KBA13_AUDI': [-1],\n",
       " 'KBA13_AUTOQUOTE': [-1],\n",
       " 'KBA13_BJ_1999': [-1],\n",
       " 'KBA13_BJ_2000': [-1],\n",
       " 'KBA13_BJ_2004': [-1],\n",
       " 'KBA13_BJ_2006': [-1],\n",
       " 'KBA13_BJ_2008': [-1],\n",
       " 'KBA13_BJ_2009': [-1],\n",
       " 'KBA13_BMW': [-1],\n",
       " 'KBA13_CCM_1000': [-1],\n",
       " 'KBA13_CCM_1200': [-1],\n",
       " 'KBA13_CCM_1400': [-1],\n",
       " 'KBA13_CCM_0_1400': [-1],\n",
       " 'KBA13_CCM_1500': [-1],\n",
       " 'KBA13_CCM_1400_2500': [-1],\n",
       " 'KBA13_CCM_1600': [-1],\n",
       " 'KBA13_CCM_1800': [-1],\n",
       " 'KBA13_CCM_2000': [-1],\n",
       " 'KBA13_CCM_2500': [-1],\n",
       " 'KBA13_CCM_2501': [-1],\n",
       " 'KBA13_CCM_3000': [-1],\n",
       " 'KBA13_CCM_3001': [-1],\n",
       " 'KBA13_FAB_ASIEN': [-1],\n",
       " 'KBA13_FAB_SONSTIGE': [-1],\n",
       " 'KBA13_FIAT': [-1],\n",
       " 'KBA13_FORD': [-1],\n",
       " 'KBA13_HALTER_20': [-1],\n",
       " 'KBA13_HALTER_25': [-1],\n",
       " 'KBA13_HALTER_30': [-1],\n",
       " 'KBA13_HALTER_35': [-1],\n",
       " 'KBA13_HALTER_40': [-1],\n",
       " 'KBA13_HALTER_45': [-1],\n",
       " 'KBA13_HALTER_50': [-1],\n",
       " 'KBA13_HALTER_55': [-1],\n",
       " 'KBA13_HALTER_60': [-1],\n",
       " 'KBA13_HALTER_65': [-1],\n",
       " 'KBA13_HALTER_66': [-1],\n",
       " 'KBA13_HERST_ASIEN': [-1],\n",
       " 'KBA13_HERST_AUDI_VW': [-1],\n",
       " 'KBA13_HERST_BMW_BENZ': [-1],\n",
       " 'KBA13_HERST_EUROPA': [-1],\n",
       " 'KBA13_HERST_FORD_OPEL': [-1],\n",
       " 'KBA13_HERST_SONST': [-1],\n",
       " 'KBA13_KMH_110': [-1],\n",
       " 'KBA13_KMH_140': [-1],\n",
       " 'KBA13_KMH_180': [-1],\n",
       " 'KBA13_KMH_0_140': [-1],\n",
       " 'KBA13_KMH_140_210': [-1],\n",
       " 'KBA13_KMH_211': [-1],\n",
       " 'KBA13_KMH_250': [-1],\n",
       " 'KBA13_KMH_251': [-1],\n",
       " 'KBA13_KRSAQUOT': [-1],\n",
       " 'KBA13_KRSHERST_AUDI_VW': [-1],\n",
       " 'KBA13_KRSHERST_BMW_BENZ': [-1],\n",
       " 'KBA13_KRSHERST_FORD_OPEL': [-1],\n",
       " 'KBA13_KRSSEG_KLEIN': [-1],\n",
       " 'KBA13_KRSSEG_OBER': [-1],\n",
       " 'KBA13_KRSSEG_VAN': [-1],\n",
       " 'KBA13_KRSZUL_NEU': [-1],\n",
       " 'KBA13_KW_30': [-1],\n",
       " 'KBA13_KW_40': [-1],\n",
       " 'KBA13_KW_50': [-1],\n",
       " 'KBA13_KW_60': [-1],\n",
       " 'KBA13_KW_0_60': [-1],\n",
       " 'KBA13_KW_70': [-1],\n",
       " 'KBA13_KW_61_120': [-1],\n",
       " 'KBA13_KW_80': [-1],\n",
       " 'KBA13_KW_90': [-1],\n",
       " 'KBA13_KW_110': [-1],\n",
       " 'KBA13_KW_120': [-1],\n",
       " 'KBA13_KW_121': [-1],\n",
       " 'KBA13_MAZDA': [-1],\n",
       " 'KBA13_MERCEDES': [-1],\n",
       " 'KBA13_MOTOR': [-1],\n",
       " 'KBA13_NISSAN': [-1],\n",
       " 'KBA13_OPEL': [-1],\n",
       " 'KBA13_PEUGEOT': [-1],\n",
       " 'KBA13_RENAULT': [-1],\n",
       " 'KBA13_SEG_GELAENDEWAGEN': [-1],\n",
       " 'KBA13_SEG_GROSSRAUMVANS': [-1],\n",
       " 'KBA13_SEG_KLEINST': [-1],\n",
       " 'KBA13_SEG_KLEINWAGEN': [-1],\n",
       " 'KBA13_SEG_KOMPAKTKLASSE': [-1],\n",
       " 'KBA13_SEG_MINIVANS': [-1],\n",
       " 'KBA13_SEG_MINIWAGEN': [-1],\n",
       " 'KBA13_SEG_MITTELKLASSE': [-1],\n",
       " 'KBA13_SEG_OBEREMITTELKLASSE': [-1],\n",
       " 'KBA13_SEG_OBERKLASSE': [-1],\n",
       " 'KBA13_SEG_SONSTIGE': [-1],\n",
       " 'KBA13_SEG_SPORTWAGEN': [-1],\n",
       " 'KBA13_SEG_UTILITIES': [-1],\n",
       " 'KBA13_SEG_VAN': [-1],\n",
       " 'KBA13_SEG_WOHNMOBILE': [-1],\n",
       " 'KBA13_SITZE_4': [-1],\n",
       " 'KBA13_SITZE_5': [-1],\n",
       " 'KBA13_SITZE_6': [-1],\n",
       " 'KBA13_TOYOTA': [-1],\n",
       " 'KBA13_VORB_0': [-1],\n",
       " 'KBA13_VORB_1': [-1],\n",
       " 'KBA13_VORB_1_2': [-1],\n",
       " 'KBA13_VORB_2': [-1],\n",
       " 'KBA13_VORB_3': [-1],\n",
       " 'KBA13_VW': [-1],\n",
       " 'KKK': [-1, 0],\n",
       " 'NATIONALITAET_KZ': [-1, 0],\n",
       " 'ORTSGR_KLS9': [-1],\n",
       " 'OST_WEST_KZ': [-1],\n",
       " 'PLZ8_ANTG1': [-1],\n",
       " 'PLZ8_ANTG2': [-1],\n",
       " 'PLZ8_ANTG3': [-1],\n",
       " 'PLZ8_ANTG4': [-1],\n",
       " 'PLZ8_GBZ': [-1],\n",
       " 'PLZ8_HHZ': [-1],\n",
       " 'PRAEGENDE_JUGENDJAHRE': [-1, 0],\n",
       " 'REGIOTYP': [-1, 0],\n",
       " 'RELAT_AB': [-1, 9],\n",
       " 'RETOURTYP_BK_S': [0],\n",
       " 'SEMIO_DOM': [-1, 9],\n",
       " 'SEMIO_ERL': [-1, 9],\n",
       " 'SEMIO_FAM': [-1, 9],\n",
       " 'SEMIO_KAEM': [-1, 9],\n",
       " 'SEMIO_KRIT': [-1, 9],\n",
       " 'SEMIO_KULT': [-1, 9],\n",
       " 'SEMIO_LUST': [-1, 9],\n",
       " 'SEMIO_MAT': [-1, 9],\n",
       " 'SEMIO_PFLICHT': [-1, 9],\n",
       " 'SEMIO_RAT': [-1, 9],\n",
       " 'SEMIO_REL': [-1, 9],\n",
       " 'SEMIO_SOZ': [-1, 9],\n",
       " 'SEMIO_TRADV': [-1, 9],\n",
       " 'SEMIO_VERT': [-1, 9],\n",
       " 'SHOPPER_TYP': [-1],\n",
       " 'SOHO_FLAG': [-1],\n",
       " 'TITEL_KZ': [-1, 0],\n",
       " 'VERS_TYP': [-1],\n",
       " 'WOHNDAUER_2008': [-1, 0],\n",
       " 'WOHNLAGE': [-1],\n",
       " 'WACHSTUMSGEBIET_NB': [-1, 0],\n",
       " 'W_KEIT_KIND_HH': [-1, 0],\n",
       " 'ZABEOTYP': [-1, 9]}"
      ]
     },
     "execution_count": 16,
     "metadata": {},
     "output_type": "execute_result"
    }
   ],
   "source": [
    "df_missing = attributes_metdata[mask]\n",
    "missing_dict = {}\n",
    "\n",
    "for attr in df_missing['Attribute']:\n",
    "    list_curr = []\n",
    "    \n",
    "    row = df_missing[df_missing['Attribute'] == attr]\n",
    "    value = row['Value'].values[0]\n",
    "    \n",
    "    if type(value) is int:\n",
    "        list_curr.append(value)\n",
    "    else:       \n",
    "        list_curr = [int(elem) for elem in value.split(',')]\n",
    "        \n",
    "    missing_dict[attr] = list_curr\n",
    "    \n",
    "missing_dict"
   ]
  },
  {
   "cell_type": "markdown",
   "metadata": {},
   "source": [
    "Setting all missing values to NaN in both datasets."
   ]
  },
  {
   "cell_type": "code",
   "execution_count": 17,
   "metadata": {},
   "outputs": [],
   "source": [
    "for attr in azdias.columns:\n",
    "    if attr in missing_dict.keys():\n",
    "        azdias[attr].replace(missing_dict[attr], np.nan, inplace=True)\n",
    "        customers[attr].replace(missing_dict[attr], np.nan, inplace=True)"
   ]
  },
  {
   "cell_type": "markdown",
   "metadata": {},
   "source": [
    "Investiogation of missing values"
   ]
  },
  {
   "cell_type": "code",
   "execution_count": 18,
   "metadata": {},
   "outputs": [],
   "source": [
    "N, p = azdias.shape\n",
    "predictors_null = azdias.isnull().sum()\n",
    "predictors_null_relative_azdias = predictors_null / N\n",
    "\n",
    "N, p = customers.shape\n",
    "predictors_null = customers.isnull().sum()\n",
    "predictors_null_relative_customers = predictors_null / N"
   ]
  },
  {
   "cell_type": "markdown",
   "metadata": {},
   "source": [
    "Sorting ascending relative missing values to obtain only the highes missing rates. I will plot only those, becaus all the data would not fit into a plot. "
   ]
  },
  {
   "cell_type": "code",
   "execution_count": 19,
   "metadata": {},
   "outputs": [
    {
     "data": {
      "text/html": [
       "<div>\n",
       "<style scoped>\n",
       "    .dataframe tbody tr th:only-of-type {\n",
       "        vertical-align: middle;\n",
       "    }\n",
       "\n",
       "    .dataframe tbody tr th {\n",
       "        vertical-align: top;\n",
       "    }\n",
       "\n",
       "    .dataframe thead th {\n",
       "        text-align: right;\n",
       "    }\n",
       "</style>\n",
       "<table border=\"1\" class=\"dataframe\">\n",
       "  <thead>\n",
       "    <tr style=\"text-align: right;\">\n",
       "      <th></th>\n",
       "      <th>Attribute</th>\n",
       "      <th>variable</th>\n",
       "      <th>value</th>\n",
       "    </tr>\n",
       "  </thead>\n",
       "  <tbody>\n",
       "    <tr>\n",
       "      <th>0</th>\n",
       "      <td>TITEL_KZ</td>\n",
       "      <td>azdias</td>\n",
       "      <td>0.997576</td>\n",
       "    </tr>\n",
       "    <tr>\n",
       "      <th>1</th>\n",
       "      <td>AGER_TYP</td>\n",
       "      <td>azdias</td>\n",
       "      <td>0.760196</td>\n",
       "    </tr>\n",
       "    <tr>\n",
       "      <th>2</th>\n",
       "      <td>KBA05_BAUMAX</td>\n",
       "      <td>azdias</td>\n",
       "      <td>0.534687</td>\n",
       "    </tr>\n",
       "    <tr>\n",
       "      <th>3</th>\n",
       "      <td>ALTER_HH</td>\n",
       "      <td>azdias</td>\n",
       "      <td>0.348137</td>\n",
       "    </tr>\n",
       "    <tr>\n",
       "      <th>4</th>\n",
       "      <td>D19_VERSAND_ONLINE_QUOTE_12</td>\n",
       "      <td>azdias</td>\n",
       "      <td>0.288495</td>\n",
       "    </tr>\n",
       "    <tr>\n",
       "      <th>5</th>\n",
       "      <td>D19_KONSUMTYP</td>\n",
       "      <td>azdias</td>\n",
       "      <td>0.288495</td>\n",
       "    </tr>\n",
       "    <tr>\n",
       "      <th>6</th>\n",
       "      <td>D19_GESAMT_ONLINE_QUOTE_12</td>\n",
       "      <td>azdias</td>\n",
       "      <td>0.288495</td>\n",
       "    </tr>\n",
       "    <tr>\n",
       "      <th>7</th>\n",
       "      <td>D19_BANKEN_ONLINE_QUOTE_12</td>\n",
       "      <td>azdias</td>\n",
       "      <td>0.288495</td>\n",
       "    </tr>\n",
       "    <tr>\n",
       "      <th>8</th>\n",
       "      <td>KKK</td>\n",
       "      <td>azdias</td>\n",
       "      <td>0.177357</td>\n",
       "    </tr>\n",
       "    <tr>\n",
       "      <th>9</th>\n",
       "      <td>REGIOTYP</td>\n",
       "      <td>azdias</td>\n",
       "      <td>0.177357</td>\n",
       "    </tr>\n",
       "    <tr>\n",
       "      <th>10</th>\n",
       "      <td>KBA05_AUTOQUOT</td>\n",
       "      <td>azdias</td>\n",
       "      <td>0.166193</td>\n",
       "    </tr>\n",
       "    <tr>\n",
       "      <th>11</th>\n",
       "      <td>KBA05_SEG4</td>\n",
       "      <td>azdias</td>\n",
       "      <td>0.166188</td>\n",
       "    </tr>\n",
       "    <tr>\n",
       "      <th>12</th>\n",
       "      <td>KBA05_HERST2</td>\n",
       "      <td>azdias</td>\n",
       "      <td>0.166188</td>\n",
       "    </tr>\n",
       "    <tr>\n",
       "      <th>13</th>\n",
       "      <td>KBA05_MOD8</td>\n",
       "      <td>azdias</td>\n",
       "      <td>0.166188</td>\n",
       "    </tr>\n",
       "    <tr>\n",
       "      <th>14</th>\n",
       "      <td>KBA05_MAXHERST</td>\n",
       "      <td>azdias</td>\n",
       "      <td>0.166188</td>\n",
       "    </tr>\n",
       "    <tr>\n",
       "      <th>15</th>\n",
       "      <td>TITEL_KZ</td>\n",
       "      <td>customers</td>\n",
       "      <td>0.987936</td>\n",
       "    </tr>\n",
       "    <tr>\n",
       "      <th>16</th>\n",
       "      <td>AGER_TYP</td>\n",
       "      <td>customers</td>\n",
       "      <td>0.480595</td>\n",
       "    </tr>\n",
       "    <tr>\n",
       "      <th>17</th>\n",
       "      <td>KBA05_BAUMAX</td>\n",
       "      <td>customers</td>\n",
       "      <td>0.571531</td>\n",
       "    </tr>\n",
       "    <tr>\n",
       "      <th>18</th>\n",
       "      <td>ALTER_HH</td>\n",
       "      <td>customers</td>\n",
       "      <td>0.358707</td>\n",
       "    </tr>\n",
       "    <tr>\n",
       "      <th>19</th>\n",
       "      <td>D19_VERSAND_ONLINE_QUOTE_12</td>\n",
       "      <td>customers</td>\n",
       "      <td>0.248873</td>\n",
       "    </tr>\n",
       "  </tbody>\n",
       "</table>\n",
       "</div>"
      ],
      "text/plain": [
       "                      Attribute   variable     value\n",
       "0                      TITEL_KZ     azdias  0.997576\n",
       "1                      AGER_TYP     azdias  0.760196\n",
       "2                  KBA05_BAUMAX     azdias  0.534687\n",
       "3                      ALTER_HH     azdias  0.348137\n",
       "4   D19_VERSAND_ONLINE_QUOTE_12     azdias  0.288495\n",
       "5                 D19_KONSUMTYP     azdias  0.288495\n",
       "6    D19_GESAMT_ONLINE_QUOTE_12     azdias  0.288495\n",
       "7    D19_BANKEN_ONLINE_QUOTE_12     azdias  0.288495\n",
       "8                           KKK     azdias  0.177357\n",
       "9                      REGIOTYP     azdias  0.177357\n",
       "10               KBA05_AUTOQUOT     azdias  0.166193\n",
       "11                   KBA05_SEG4     azdias  0.166188\n",
       "12                 KBA05_HERST2     azdias  0.166188\n",
       "13                   KBA05_MOD8     azdias  0.166188\n",
       "14               KBA05_MAXHERST     azdias  0.166188\n",
       "15                     TITEL_KZ  customers  0.987936\n",
       "16                     AGER_TYP  customers  0.480595\n",
       "17                 KBA05_BAUMAX  customers  0.571531\n",
       "18                     ALTER_HH  customers  0.358707\n",
       "19  D19_VERSAND_ONLINE_QUOTE_12  customers  0.248873"
      ]
     },
     "execution_count": 19,
     "metadata": {},
     "output_type": "execute_result"
    }
   ],
   "source": [
    "df_missing = pd.DataFrame([predictors_null_relative_azdias, predictors_null_relative_customers]).T\n",
    "\n",
    "df_missing.columns = [\"azdias\", \"customers\"]\n",
    "df_missing['Attribute'] = df_missing.index\n",
    "df_missing_plot = df_missing.sort_values(by=['azdias'], ascending=False)[0:15]\n",
    "df_missing_plot = pd.melt(df_missing_plot, id_vars=['Attribute'], value_vars=[ 'azdias', 'customers'])\n",
    "df_missing_plot.head(n=20)"
   ]
  },
  {
   "cell_type": "code",
   "execution_count": 20,
   "metadata": {},
   "outputs": [
    {
     "data": {
      "image/png": "[encoded data removed]",
      "text/plain": [
       "<matplotlib.figure.Figure at 0x7ff95183f860>"
      ]
     },
     "metadata": {
      "needs_background": "light"
     },
     "output_type": "display_data"
    }
   ],
   "source": [
    "#sns.set(style=\"whitegrid\")\n",
    "fig = plt.figure(figsize=(25,10))\n",
    "ax = sns.barplot(x=\"Attribute\", y=\"value\", hue=\"variable\", ci=None, data=df_missing_plot)\n",
    "plt.xticks(rotation=90)\n",
    "ax.set_title(\"attribute with missing values\")\n",
    "fig.savefig('nas.png', bbox_inches='tight')"
   ]
  },
  {
   "cell_type": "markdown",
   "metadata": {},
   "source": [
    "Selecting only those variables where the percentage of missing values is smaller than 5 %:"
   ]
  },
  {
   "cell_type": "code",
   "execution_count": 21,
   "metadata": {},
   "outputs": [],
   "source": [
    "percentage_of_nas_lead_to_dropping = 0.10\n",
    "df_missing = df_missing.sort_values(by=['azdias'], ascending=False)\n",
    "predictors_to_keep = df_missing[df_missing['azdias'] < percentage_of_nas_lead_to_dropping].index\n",
    "azdias = azdias[predictors_to_keep]\n",
    "customers = customers[predictors_to_keep]"
   ]
  },
  {
   "cell_type": "code",
   "execution_count": 22,
   "metadata": {},
   "outputs": [
    {
     "data": {
      "text/plain": [
       "(891221, 59)"
      ]
     },
     "execution_count": 22,
     "metadata": {},
     "output_type": "execute_result"
    }
   ],
   "source": [
    "azdias.shape"
   ]
  },
  {
   "cell_type": "code",
   "execution_count": 23,
   "metadata": {},
   "outputs": [
    {
     "data": {
      "text/plain": [
       "(191652, 59)"
      ]
     },
     "execution_count": 23,
     "metadata": {},
     "output_type": "execute_result"
    }
   ],
   "source": [
    "customers.shape"
   ]
  },
  {
   "cell_type": "markdown",
   "metadata": {},
   "source": [
    "I identified all categorial variables myself with the help of the Attributes excel file. I will tranfrom every of these variables into the type cateogial."
   ]
  },
  {
   "cell_type": "code",
   "execution_count": 24,
   "metadata": {},
   "outputs": [],
   "source": [
    "categorial_variables = ['AGER_TYP', 'ANREDE_KZ', 'BIP_FLAG', 'CAMEO_DEUG_2015', 'CAMEO_DEU_2015', 'CAMEO_DEUINTL_2015',\n",
    "'CJT_GESAMTTYP', 'D19_BANKEN_DATUM', 'D19_BANKEN_DIREKT_RZ', 'D19_BANKEN_GROSS_RZ', 'D19_BANKEN_OFFLINE_DATUM',\n",
    "'D19_BANKEN_ONLINE_DATUM', 'D19_BANKEN_REST_RZ', 'D19_BEKLEIDUNG_GEH_RZ', 'D19_BEKLEIDUNG_REST_RZ', \n",
    "'D19_BILDUNG_RZ', 'D19_BIO_OEKO_RZ', 'D19_BUCH_RZ', 'D19_DIGIT_SERV_RZ', 'D19_DROGERIEARTIKEL_RZ', \n",
    "'D19_ENERGIE_RZ', 'D19_FREIZEIT_RZ','D19_GARTEN_RZ',\n",
    "'D19_GESAMT_DATUM,'\n",
    "'D19_GESAMT_OFFLINE_DATUM',\n",
    "'D19_GESAMT_ONLINE_DATUM',\n",
    "'D19_HANDWERK_RZ',\n",
    "'D19_HAUS_DEKO_RZ',\n",
    "'D19_KINDERARTIKEL,RZ',\n",
    "'D19_KONSUMTYP',\n",
    "'D19_KK_KUNDENTYP',\n",
    "'D19_KOSMETIK_RZ',\n",
    "'D19_LEBENSMITTEL_RZ',\n",
    "'D19_LOTTO_RZ',\n",
    "'D19_NAHRUNGSERGAENZUNG_RZ',\n",
    "'D19_RATGEBER_RZ',\n",
    "'D19_REISEN_RZ',\n",
    "'D19_SAMMELARTIKEL_RZ',\n",
    "'D19_SCHUHE_RZ',\n",
    "'D19_SONSTIGE_RZ',\n",
    "'D19_TECHNIK_RZ',\n",
    "'D19_TELKO_DATUM',\n",
    "'D19_TELKO_MOBILE_RZ'\n",
    "'D19_TELKO_OFFLINE_DATUM',\n",
    "'D19_TELKO_ONLINE_DATUM',\n",
    "'D19_TELKO_REST_RZ',\n",
    "'D19_TIERARTIKEL_RZ',\n",
    "'D19_VERSAND_DATUM',\n",
    "'D19_VERSAND_OFFLINE_DATUM',\n",
    "'D19_VERSAND_ONLINE_DATUM',\n",
    "'D19_VERSAND_REST_RZ',\n",
    "'D19_VERSICHERUNGEN_RZ',\n",
    "'D19_VOLLSORTIMENT_RZ',\n",
    "'D19_WEIN_FEINKOST_RZ',\n",
    "'GEBAEUDETYP',\n",
    "'GEBAEUDETYP_RASTER',\n",
    "'GFK_URLAUBERTYP',\n",
    "'GREEN_AVANTGARDE',\n",
    "'HAUSHALTSSTRUKTUR',\n",
    "'HEALTH_TYP',\n",
    "'KBA05_HERSTTEMP'\n",
    "'KBA05_MODTEMP',\n",
    "'KBA05_MAXHERST',\n",
    "'LP_FAMILIE_FEIN',\n",
    "'LP_FAMILIE_GROB',\n",
    "'NATIONALITAET_KZ',\n",
    "'OST_WEST_KZ',\n",
    "'SHOPPER_TYP',\n",
    "'SOHO_FLAG',\n",
    "'TITEL_KZ',\n",
    "'VERS_TYP',\n",
    "'ZABEOTYP']\n",
    "    \n",
    "for attr in customers.columns:\n",
    "    if attr in categorial_variables or (customers.dtypes[attr] != 'float64' and customers.dtypes[attr] != 'int64'):\n",
    "        customers[attr] = customers[attr].astype('category')\n",
    "        azdias[attr] = azdias[attr].astype('category')"
   ]
  },
  {
   "cell_type": "markdown",
   "metadata": {},
   "source": [
    "Now I can impute missing values. For categorial variables I use the most common value and for numerical i impute with k-nearest neighbours with k = 5. I also convert the categorial variables into dummies. "
   ]
  },
  {
   "cell_type": "code",
   "execution_count": 25,
   "metadata": {},
   "outputs": [],
   "source": [
    "df_category = customers.select_dtypes(include='category')\n",
    "imp = SimpleImputer(strategy=\"most_frequent\")\n",
    "imp.fit(df_category)\n",
    "df_category = pd.DataFrame(imp.transform(df_category), columns=df_category.columns)\n",
    "df_category = df_category.astype('category')\n",
    "df_category = pd.get_dummies(df_category)\n",
    "\n",
    "df_float = customers.select_dtypes(include='float64')\n",
    "#imp = KNNImputer(n_neighbors=5, weights=\"uniform\")\n",
    "imp = SimpleImputer(missing_values=np.nan, strategy='mean')\n",
    "imp.fit(df_float)\n",
    "df_float = pd.DataFrame(imp.transform(df_float), columns=df_float.columns)\n",
    "\n",
    "customers = pd.concat([df_category, df_float], axis=1)\n",
    "\n",
    "\n",
    "df_category = azdias.select_dtypes(include='category')\n",
    "imp = SimpleImputer(strategy=\"most_frequent\")\n",
    "imp.fit(df_category)\n",
    "df_category = pd.DataFrame(imp.transform(df_category), columns=df_category.columns)\n",
    "df_category = df_category.astype('category')\n",
    "df_category = pd.get_dummies(df_category)\n",
    "\n",
    "   \n",
    "df_float = azdias.select_dtypes(include='float64')\n",
    "#imp = KNNImputer(n_neighbors=5, weights=\"uniform\")\n",
    "imp = SimpleImputer(missing_values=np.nan, strategy='mean')\n",
    "imp.fit(df_float)\n",
    "df_float = pd.DataFrame(imp.transform(df_float), columns=df_float.columns)\n",
    "\n",
    "azdias = pd.concat([df_category, df_float], axis=1)"
   ]
  },
  {
   "cell_type": "markdown",
   "metadata": {},
   "source": [
    "Finally scalling and standardize variables."
   ]
  },
  {
   "cell_type": "code",
   "execution_count": 26,
   "metadata": {},
   "outputs": [],
   "source": [
    "scaler_customers = StandardScaler()\n",
    "scaler_customers.fit(customers)\n",
    "customers = pd.DataFrame(scaler_customers.transform(customers), columns=customers.columns)\n",
    "scaler_azdias = StandardScaler()\n",
    "scaler_azdias.fit(azdias)\n",
    "azdias = pd.DataFrame(scaler_azdias.transform(azdias), columns=azdias.columns)"
   ]
  },
  {
   "cell_type": "code",
   "execution_count": 27,
   "metadata": {},
   "outputs": [],
   "source": [
    "#saving files\n",
    "#customers.to_pickle(\"customer.pkl\")\n",
    "#azdias.to_pickle(\"azdias.pkl\")\n",
    "\n",
    "\n",
    "#customers=pd.read_pickle(\"customer.pkl\")\n",
    "#azdias= pd.read_pickle(\"azdias.pkl\")"
   ]
  },
  {
   "cell_type": "markdown",
   "metadata": {},
   "source": [
    "## Part 1: Customer Segmentation Report\n",
    "\n",
    "The main bulk of your analysis will come in this part of the project. Here, you should use unsupervised learning techniques to describe the relationship between the demographics of the company's existing customers and the general population of Germany. By the end of this part, you should be able to describe parts of the general population that are more likely to be part of the mail-order company's main customer base, and which parts of the general population are less so.\n",
    "\n",
    "Inspection how many number of components are necessary to explain a given percentage of underlying variance of the data. "
   ]
  },
  {
   "cell_type": "code",
   "execution_count": 28,
   "metadata": {},
   "outputs": [
    {
     "name": "stdout",
     "output_type": "stream",
     "text": [
      "65 components are necessary to explain 0.8 % percent of whole variance.\n"
     ]
    },
    {
     "data": {
      "image/png": "[encoded data removed]",
      "text/plain": [
       "<matplotlib.figure.Figure at 0x7ff951c28cf8>"
      ]
     },
     "metadata": {
      "needs_background": "light"
     },
     "output_type": "display_data"
    }
   ],
   "source": [
    "variance_threshold = 0.8\n",
    "\n",
    "pca_azdias = PCA() \n",
    "azdias_pca = pca_azdias.fit_transform(azdias)\n",
    "cumulative_variance = np.cumsum(pca_azdias.explained_variance_ratio_)\n",
    "relevant_components = np.where(cumulative_variance>variance_threshold)[0][0]\n",
    "print(\"{} components are necessary to explain {} % percent of whole variance.\".format(relevant_components, variance_threshold))\n",
    "\n",
    "fig = plt.figure(figsize=(15,10))\n",
    "x = np.arange(0, pca_azdias.n_features_) + 1\n",
    "y = np.cumsum(pca_azdias.explained_variance_ratio_)\n",
    "\n",
    "plt.plot(x, y)\n",
    "plt.vlines(x=relevant_components, ymin=pca_azdias.explained_variance_ratio_[0], ymax=variance_threshold, linewidth=1, color='r', linestyle='--')\n",
    "plt.hlines(y=variance_threshold, xmin=0, xmax=relevant_components, linewidth=1, color='r', linestyle='--')\n",
    "plt.xlabel('number of components')\n",
    "plt.ylabel('explained variance')\n",
    "plt.title('PCA variance plot for azdias')\n",
    "fig.savefig('pca_azdias.png', bbox_inches='tight')"
   ]
  },
  {
   "cell_type": "markdown",
   "metadata": {},
   "source": [
    "The same for the custumers dataset."
   ]
  },
  {
   "cell_type": "code",
   "execution_count": 29,
   "metadata": {},
   "outputs": [
    {
     "name": "stdout",
     "output_type": "stream",
     "text": [
      "64 components are necessary to explain 0.8 % percent of whole variance.\n"
     ]
    },
    {
     "data": {
      "image/png": "[encoded data removed]",
      "text/plain": [
       "<matplotlib.figure.Figure at 0x7ff951b35128>"
      ]
     },
     "metadata": {
      "needs_background": "light"
     },
     "output_type": "display_data"
    }
   ],
   "source": [
    "variance_threshold = 0.8\n",
    "\n",
    "pca_customers = PCA() \n",
    "customers_pca = pca_customers.fit_transform(customers)\n",
    "cumulative_variance = np.cumsum(pca_customers.explained_variance_ratio_)\n",
    "relevant_components = np.where(cumulative_variance>variance_threshold)[0][0]\n",
    "print(\"{} components are necessary to explain {} % percent of whole variance.\".format(relevant_components, variance_threshold))\n",
    "\n",
    "fig = plt.figure(figsize=(15,10))\n",
    "x = np.arange(0, pca_customers.n_features_) + 1\n",
    "y = np.cumsum(pca_customers.explained_variance_ratio_)\n",
    "\n",
    "plt.plot(x, y)\n",
    "plt.vlines(x=relevant_components, ymin=pca_customers.explained_variance_ratio_[0], ymax=variance_threshold, linewidth=1, color='r', linestyle='--')\n",
    "plt.hlines(y=variance_threshold, xmin=0, xmax=relevant_components, linewidth=1, color='r', linestyle='--')\n",
    "plt.xlabel('number of components')\n",
    "plt.ylabel('explained variance')\n",
    "plt.title('PCA variance plot for customers')\n",
    "fig.savefig('pca_customers.png', bbox_inches='tight')"
   ]
  },
  {
   "cell_type": "markdown",
   "metadata": {},
   "source": [
    "Now I want to inspect the composition of the compontents regarding the attributes of the dataset. I look at the first five components and the attributes with the most absolute impact with respect to that component. "
   ]
  },
  {
   "cell_type": "code",
   "execution_count": 30,
   "metadata": {},
   "outputs": [
    {
     "data": {
      "image/png": "[encoded data removed]",
      "text/plain": [
       "<matplotlib.figure.Figure at 0x7ff8d99bae10>"
      ]
     },
     "metadata": {
      "needs_background": "light"
     },
     "output_type": "display_data"
    },
    {
     "data": {
      "image/png": "[encoded data removed]",
      "text/plain": [
       "<matplotlib.figure.Figure at 0x7ff8da6fb390>"
      ]
     },
     "metadata": {
      "needs_background": "light"
     },
     "output_type": "display_data"
    },
    {
     "data": {
      "image/png": "[encoded data removed]",
      "text/plain": [
       "<matplotlib.figure.Figure at 0x7ff8da705940>"
      ]
     },
     "metadata": {
      "needs_background": "light"
     },
     "output_type": "display_data"
    },
    {
     "data": {
      "image/png": "[encoded data removed]",
      "text/plain": [
       "<matplotlib.figure.Figure at 0x7ff8d3832b38>"
      ]
     },
     "metadata": {
      "needs_background": "light"
     },
     "output_type": "display_data"
    },
    {
     "data": {
      "image/png": "[encoded data removed]",
      "text/plain": [
       "<matplotlib.figure.Figure at 0x7ff94f3b7b70>"
      ]
     },
     "metadata": {
      "needs_background": "light"
     },
     "output_type": "display_data"
    }
   ],
   "source": [
    "n_component = 5\n",
    "n_attributes = 5\n",
    "\n",
    "def plot_composition_pca(df, pca, component, name):\n",
    "\n",
    "    data = {'PCA_Components': pca.components_[component],\n",
    "           'Attribute': df.columns}\n",
    "    df_component = pd.DataFrame(data)\n",
    "    df_component = df_component.assign(PCA_Components_absolute=np.abs(df_component['PCA_Components']))\n",
    "\n",
    "\n",
    "\n",
    "    df_component = df_component.sort_values(by=['PCA_Components_absolute'], ascending=False)[0:n_attributes]\n",
    "    df_component = df_component.sort_values(by=['PCA_Components'], ascending=False)\n",
    "\n",
    "    fig = plt.figure(figsize=(15,10))\n",
    "    ax = sns.barplot(x=\"Attribute\", y=\"PCA_Components\", ci=None, data=df_component, color = \"blue\")\n",
    "    title = \"{} component {}\".format(name, component+1)\n",
    "    ax.set_title(title)\n",
    "    plt.xticks(rotation=90)\n",
    "    \n",
    "    fig.savefig(title+'png', bbox_inches='tight')\n",
    "    \n",
    "    return df_component\n",
    "    \n",
    "for component in range(n_component):\n",
    "    plot_composition_pca(azdias, pca_azdias, component, \"azdias\")"
   ]
  },
  {
   "cell_type": "code",
   "execution_count": 31,
   "metadata": {},
   "outputs": [
    {
     "data": {
      "image/png": "[encoded data removed]",
      "text/plain": [
       "<matplotlib.figure.Figure at 0x7ff8d3832630>"
      ]
     },
     "metadata": {
      "needs_background": "light"
     },
     "output_type": "display_data"
    },
    {
     "data": {
      "image/png": "[encoded data removed]",
      "text/plain": [
       "<matplotlib.figure.Figure at 0x7ff94f2e4b00>"
      ]
     },
     "metadata": {
      "needs_background": "light"
     },
     "output_type": "display_data"
    },
    {
     "data": {
      "image/png": "[encoded data removed]",
      "text/plain": [
       "<matplotlib.figure.Figure at 0x7ff94f290fd0>"
      ]
     },
     "metadata": {
      "needs_background": "light"
     },
     "output_type": "display_data"
    },
    {
     "data": {
      "image/png": "[encoded data removed]",
      "text/plain": [
       "<matplotlib.figure.Figure at 0x7ff94f27d780>"
      ]
     },
     "metadata": {
      "needs_background": "light"
     },
     "output_type": "display_data"
    },
    {
     "data": {
      "image/png": "[encoded data removed]",
      "text/plain": [
       "<matplotlib.figure.Figure at 0x7ff94f1bd0b8>"
      ]
     },
     "metadata": {
      "needs_background": "light"
     },
     "output_type": "display_data"
    }
   ],
   "source": [
    "for component in range(n_component):\n",
    "    plot_composition_pca(customers, pca_customers, component, \"customers\")"
   ]
  },
  {
   "cell_type": "markdown",
   "metadata": {},
   "source": [
    "Now I calculate the intersect of the top five attributes of the top ten components."
   ]
  },
  {
   "cell_type": "code",
   "execution_count": 32,
   "metadata": {},
   "outputs": [
    {
     "name": "stdout",
     "output_type": "stream",
     "text": [
      "['D19_GESAMT_ONLINE_DATUM_5', 'GREEN_AVANTGARDE_1', 'D19_VERSAND_ONLINE_DATUM_1', 'D19_GESAMT_ONLINE_DATUM_2', 'D19_GESAMT_ONLINE_DATUM_10', 'D19_VERSAND_ONLINE_DATUM_10', 'LP_STATUS_FEIN', 'D19_VERSAND_DATUM_1', 'ONLINE_AFFINITAET', 'HH_EINKOMMEN_SCORE', 'D19_GESAMT_ONLINE_DATUM_1', 'D19_VERSAND_DATUM_10', 'D19_VERSAND_ONLINE_DATUM_2', 'D19_VERSAND_DATUM_9', 'GREEN_AVANTGARDE_0', 'D19_VERSAND_DATUM_2', 'LP_LEBENSPHASE_FEIN']\n"
     ]
    },
    {
     "data": {
      "text/plain": [
       "17"
      ]
     },
     "execution_count": 32,
     "metadata": {},
     "output_type": "execute_result"
    }
   ],
   "source": [
    "n_components = 5\n",
    "n_attributes_per_component = 5\n",
    "\n",
    "\n",
    "def get_most_influencial_attributes(df, pca, n_components, n_attributes_per_component):\n",
    "\n",
    "    top_components = []\n",
    "\n",
    "    for component in range(0,n_components):\n",
    "\n",
    "\n",
    "        data = {'PCA_Components': pca.components_[component],\n",
    "               'Attribute': df.columns}\n",
    "        df_component = pd.DataFrame(data)\n",
    "        df_component = df_component.assign(PCA_Components_absolute=np.abs(df_component['PCA_Components']))\n",
    "\n",
    "\n",
    "\n",
    "        df_component = df_component.sort_values(by=['PCA_Components_absolute'], ascending=False)[0:n_attributes_per_component]\n",
    "        components_curr = [elem for elem in df_component['Attribute'].values.astype(str)]\n",
    "        top_components += components_curr\n",
    "    \n",
    "    return(top_components)\n",
    "    \n",
    "    \n",
    "top_components_azdias = get_most_influencial_attributes(azdias, pca_azdias, n_components, n_attributes_per_component)\n",
    "top_components_customers = get_most_influencial_attributes(customers, pca_customers, n_components, n_attributes_per_component)\n",
    "\n",
    "\n",
    "most_information_attributes = [elem for elem in set(top_components_azdias).intersection(set(top_components_customers))]\n",
    "\n",
    "print(most_information_attributes)\n",
    "len(most_information_attributes)\n"
   ]
  },
  {
   "cell_type": "markdown",
   "metadata": {},
   "source": [
    "knn Clustering\n",
    "\n",
    "Selectin the first X components of the PCA"
   ]
  },
  {
   "cell_type": "code",
   "execution_count": 33,
   "metadata": {},
   "outputs": [
    {
     "data": {
      "image/png": "[encoded data removed]",
      "text/plain": [
       "<matplotlib.figure.Figure at 0x7ff94f24a828>"
      ]
     },
     "metadata": {
      "needs_background": "light"
     },
     "output_type": "display_data"
    }
   ],
   "source": [
    "n_cluster = 10\n",
    "n_selected_components = 65\n",
    "\n",
    "azdias_cluster = azdias_pca[:, 0:n_selected_components]\n",
    "\n",
    "\n",
    "clusters = np.arange(1, n_cluster+1)\n",
    "sse = []\n",
    "\n",
    "for k in clusters:\n",
    "    kmeans = KMeans(n_clusters=k, random_state=0, n_init = 1, max_iter=2).fit(azdias_cluster)\n",
    "    sse.append(kmeans.inertia_)\n",
    "\n",
    "fig = plt.figure(figsize=(15,10))\n",
    "\n",
    "plt.plot(clusters, sse, linestyle='--')\n",
    "plt.scatter(clusters, sse)\n",
    "plt.xlabel('k')\n",
    "plt.ylabel('SSE')\n",
    "plt.title('kNN elbow plot azdias')\n",
    "fig.savefig('knn_azdias.png', bbox_inches='tight')\n"
   ]
  },
  {
   "cell_type": "code",
   "execution_count": 34,
   "metadata": {},
   "outputs": [
    {
     "data": {
      "image/png": "[encoded data removed]",
      "text/plain": [
       "<matplotlib.figure.Figure at 0x7ff94f0d2cf8>"
      ]
     },
     "metadata": {
      "needs_background": "light"
     },
     "output_type": "display_data"
    }
   ],
   "source": [
    "customers_cluster = customers_pca[:, 0:n_selected_components]\n",
    "\n",
    "n_cluster = 10\n",
    "clusters = np.arange(1, n_cluster+1)\n",
    "sse = []\n",
    "\n",
    "for k in clusters:\n",
    "    kmeans = KMeans(n_clusters=k, random_state=0,  n_init = 1, max_iter=2).fit(customers_cluster)\n",
    "    sse.append(kmeans.inertia_)\n",
    "\n",
    "fig = plt.figure(figsize=(15,10))\n",
    "\n",
    "plt.plot(clusters, sse, linestyle='--')\n",
    "plt.scatter(clusters, sse)\n",
    "plt.xlabel('k')\n",
    "plt.ylabel('SSE')\n",
    "plt.title('kNN elbow plot customers')\n",
    "fig.savefig('knn_customers.png', bbox_inches='tight')"
   ]
  },
  {
   "cell_type": "markdown",
   "metadata": {},
   "source": [
    "Now fit a knn clustering model with the selected k and the top components of the pca of the azdias dataset. Then predict the azdias and customers data set to this model and compare the culsters."
   ]
  },
  {
   "cell_type": "code",
   "execution_count": 35,
   "metadata": {},
   "outputs": [],
   "source": [
    "pca = PCA(n_components = 65)\n",
    "pca.fit(azdias)\n",
    "\n",
    "N_azdias, _ = azdias.shape\n",
    "N_customers, _ = customers.shape\n",
    "\n",
    "azdias_pca = pca.transform(azdias)\n",
    "customers_pca = pca.transform(customers)\n",
    "#customers_pca = pca.transform(customers.iloc[:, 0:429])\n",
    "\n",
    "kmeans = KMeans(n_clusters=7, random_state=0).fit(azdias_pca)\n",
    "\n",
    "azdias_kmeans = kmeans.predict(azdias_pca)\n",
    "customers_kmeans = kmeans.predict(customers_pca)\n",
    "\n",
    "\n",
    "_, cluster_size_azdias = np.unique(azdias_kmeans, return_counts=True)\n",
    "_, cluster_size_customers = np.unique(customers_kmeans, return_counts=True)"
   ]
  },
  {
   "cell_type": "code",
   "execution_count": 36,
   "metadata": {},
   "outputs": [
    {
     "data": {
      "image/png": "[encoded data removed]",
      "text/plain": [
       "<matplotlib.figure.Figure at 0x7ff94f2e8198>"
      ]
     },
     "metadata": {
      "needs_background": "light"
     },
     "output_type": "display_data"
    }
   ],
   "source": [
    "data = {'azdias': cluster_size_azdias / N_azdias,\n",
    "       'customers': cluster_size_customers / N_customers,\n",
    "       'cluster': np.arange(0,7)}\n",
    "df_cluster = pd.DataFrame(data)\n",
    "df_cluster = pd.melt(df_cluster, id_vars=['cluster'], value_vars=[ 'azdias', 'customers'])\n",
    "\n",
    "fig = plt.figure(figsize=(25,10))\n",
    "ax = sns.barplot(x=\"cluster\", y=\"value\", hue=\"variable\", ci=None, data=df_cluster)\n",
    "ax.set(xlabel='cluster', ylabel='relative cluster size')\n",
    "ax.set_title(\"cluster per dataset\")\n",
    "fig.savefig('cluter_comparison.png', bbox_inches='tight')"
   ]
  },
  {
   "cell_type": "markdown",
   "metadata": {},
   "source": [
    "Selecting the clusters that are the most equal an the most unequal."
   ]
  },
  {
   "cell_type": "code",
   "execution_count": 37,
   "metadata": {},
   "outputs": [
    {
     "data": {
      "text/html": [
       "<div>\n",
       "<style scoped>\n",
       "    .dataframe tbody tr th:only-of-type {\n",
       "        vertical-align: middle;\n",
       "    }\n",
       "\n",
       "    .dataframe tbody tr th {\n",
       "        vertical-align: top;\n",
       "    }\n",
       "\n",
       "    .dataframe thead th {\n",
       "        text-align: right;\n",
       "    }\n",
       "</style>\n",
       "<table border=\"1\" class=\"dataframe\">\n",
       "  <thead>\n",
       "    <tr style=\"text-align: right;\">\n",
       "      <th></th>\n",
       "      <th>cluster</th>\n",
       "      <th>azdias</th>\n",
       "      <th>customers</th>\n",
       "      <th>difference</th>\n",
       "      <th>difference_relative</th>\n",
       "      <th>difference_relative_abs</th>\n",
       "    </tr>\n",
       "  </thead>\n",
       "  <tbody>\n",
       "    <tr>\n",
       "      <th>1</th>\n",
       "      <td>1</td>\n",
       "      <td>452526</td>\n",
       "      <td>90335</td>\n",
       "      <td>362191</td>\n",
       "      <td>0.667189</td>\n",
       "      <td>0.667189</td>\n",
       "    </tr>\n",
       "    <tr>\n",
       "      <th>0</th>\n",
       "      <td>0</td>\n",
       "      <td>15066</td>\n",
       "      <td>3139</td>\n",
       "      <td>11927</td>\n",
       "      <td>0.655150</td>\n",
       "      <td>0.655150</td>\n",
       "    </tr>\n",
       "    <tr>\n",
       "      <th>2</th>\n",
       "      <td>2</td>\n",
       "      <td>168812</td>\n",
       "      <td>36949</td>\n",
       "      <td>131863</td>\n",
       "      <td>0.640855</td>\n",
       "      <td>0.640855</td>\n",
       "    </tr>\n",
       "    <tr>\n",
       "      <th>5</th>\n",
       "      <td>5</td>\n",
       "      <td>38369</td>\n",
       "      <td>9023</td>\n",
       "      <td>29346</td>\n",
       "      <td>0.619218</td>\n",
       "      <td>0.619218</td>\n",
       "    </tr>\n",
       "    <tr>\n",
       "      <th>4</th>\n",
       "      <td>4</td>\n",
       "      <td>76083</td>\n",
       "      <td>17976</td>\n",
       "      <td>58107</td>\n",
       "      <td>0.617772</td>\n",
       "      <td>0.617772</td>\n",
       "    </tr>\n",
       "    <tr>\n",
       "      <th>3</th>\n",
       "      <td>3</td>\n",
       "      <td>30253</td>\n",
       "      <td>7333</td>\n",
       "      <td>22920</td>\n",
       "      <td>0.609802</td>\n",
       "      <td>0.609802</td>\n",
       "    </tr>\n",
       "    <tr>\n",
       "      <th>6</th>\n",
       "      <td>6</td>\n",
       "      <td>110112</td>\n",
       "      <td>26897</td>\n",
       "      <td>83215</td>\n",
       "      <td>0.607369</td>\n",
       "      <td>0.607369</td>\n",
       "    </tr>\n",
       "  </tbody>\n",
       "</table>\n",
       "</div>"
      ],
      "text/plain": [
       "   cluster  azdias  customers  difference  difference_relative  \\\n",
       "1        1  452526      90335      362191             0.667189   \n",
       "0        0   15066       3139       11927             0.655150   \n",
       "2        2  168812      36949      131863             0.640855   \n",
       "5        5   38369       9023       29346             0.619218   \n",
       "4        4   76083      17976       58107             0.617772   \n",
       "3        3   30253       7333       22920             0.609802   \n",
       "6        6  110112      26897       83215             0.607369   \n",
       "\n",
       "   difference_relative_abs  \n",
       "1                 0.667189  \n",
       "0                 0.655150  \n",
       "2                 0.640855  \n",
       "5                 0.619218  \n",
       "4                 0.617772  \n",
       "3                 0.609802  \n",
       "6                 0.607369  "
      ]
     },
     "execution_count": 37,
     "metadata": {},
     "output_type": "execute_result"
    }
   ],
   "source": [
    "data = {'cluster': np.arange(0,7),\n",
    "        'azdias': cluster_size_azdias,\n",
    "        'customers': cluster_size_customers}\n",
    "df_cluster = pd.DataFrame(data)\n",
    "df_cluster = df_cluster.assign(difference=df_cluster['azdias']-df_cluster['customers'])\n",
    "df_cluster = df_cluster.assign(difference_relative = df_cluster['difference'] / (df_cluster['azdias']+df_cluster['customers']))\n",
    "df_cluster = df_cluster.assign(difference_relative_abs = np.abs(df_cluster['difference_relative']))\n",
    "df_cluster = df_cluster.sort_values(by='difference_relative_abs', ascending=False)\n",
    "df_cluster"
   ]
  },
  {
   "cell_type": "code",
   "execution_count": 38,
   "metadata": {},
   "outputs": [
    {
     "data": {
      "text/plain": [
       "array([1, 6])"
      ]
     },
     "execution_count": 38,
     "metadata": {},
     "output_type": "execute_result"
    }
   ],
   "source": [
    "cluster_to_inspect = df_cluster.iloc[[0,6], 0].values\n",
    "cluster_to_inspect"
   ]
  },
  {
   "cell_type": "markdown",
   "metadata": {},
   "source": [
    "Inspecting the components of the cluster that is the most equal. "
   ]
  },
  {
   "cell_type": "code",
   "execution_count": 39,
   "metadata": {},
   "outputs": [
    {
     "data": {
      "text/plain": [
       "array([1, 2])"
      ]
     },
     "execution_count": 39,
     "metadata": {},
     "output_type": "execute_result"
    }
   ],
   "source": [
    "center = kmeans.cluster_centers_[cluster_to_inspect[0],:]\n",
    "center.shape\n",
    "\n",
    "N_components, N_features = pca.components_.shape\n",
    "\n",
    "center.shape\n",
    "\n",
    "data ={'PCA_weights': center,\n",
    "      'Components': np.arange(0, N_components)}\n",
    "\n",
    "df_components = pd.DataFrame(data)\n",
    "df_components = df_components.assign(PCA_weights_absolute=np.abs(df_components['PCA_weights']))\n",
    "df_components = df_components.sort_values(by=['PCA_weights'], ascending=False)\n",
    "\n",
    "\n",
    "selected_components = df_components['Components'][0:2].values\n",
    "selected_components\n"
   ]
  },
  {
   "cell_type": "code",
   "execution_count": 40,
   "metadata": {},
   "outputs": [
    {
     "data": {
      "image/png": "[encoded data removed]",
      "text/plain": [
       "<matplotlib.figure.Figure at 0x7ff94f05a780>"
      ]
     },
     "metadata": {
      "needs_background": "light"
     },
     "output_type": "display_data"
    },
    {
     "data": {
      "image/png": "[encoded data removed]",
      "text/plain": [
       "<matplotlib.figure.Figure at 0x7ff94f05e2b0>"
      ]
     },
     "metadata": {
      "needs_background": "light"
     },
     "output_type": "display_data"
    }
   ],
   "source": [
    "n_attributes = 5\n",
    "\n",
    "attributes_most_common = []\n",
    "\n",
    "for component in selected_components:\n",
    "    df = plot_composition_pca(azdias, pca, component, \"azdias most equal\")\n",
    "    attributes_most_common += list(df['Attribute'].values)"
   ]
  },
  {
   "cell_type": "code",
   "execution_count": 41,
   "metadata": {},
   "outputs": [
    {
     "data": {
      "text/plain": [
       "array([0, 3])"
      ]
     },
     "execution_count": 41,
     "metadata": {},
     "output_type": "execute_result"
    }
   ],
   "source": [
    "center = kmeans.cluster_centers_[cluster_to_inspect[1],:]\n",
    "center.shape\n",
    "\n",
    "N_components, N_features = pca.components_.shape\n",
    "\n",
    "center.shape\n",
    "\n",
    "data ={'PCA_weights': center,\n",
    "      'Components': np.arange(0, N_components)}\n",
    "\n",
    "df_components = pd.DataFrame(data)\n",
    "df_components = df_components.assign(PCA_weights_absolute=np.abs(df_components['PCA_weights']))\n",
    "df_components = df_components.sort_values(by=['PCA_weights'], ascending=False)\n",
    "\n",
    "df_components\n",
    "\n",
    "\n",
    "selected_components = df_components['Components'][0:2].values\n",
    "selected_components\n"
   ]
  },
  {
   "cell_type": "code",
   "execution_count": 42,
   "metadata": {},
   "outputs": [
    {
     "data": {
      "image/png": "[encoded data removed]",
      "text/plain": [
       "<matplotlib.figure.Figure at 0x7ff94f00c5c0>"
      ]
     },
     "metadata": {
      "needs_background": "light"
     },
     "output_type": "display_data"
    },
    {
     "data": {
      "image/png": "[encoded data removed]",
      "text/plain": [
       "<matplotlib.figure.Figure at 0x7ff94f129518>"
      ]
     },
     "metadata": {
      "needs_background": "light"
     },
     "output_type": "display_data"
    }
   ],
   "source": [
    "attributes_most_uncommon = []\n",
    "\n",
    "for component in selected_components:\n",
    "    df = plot_composition_pca(azdias, pca, component, \"azdias most unequal\")\n",
    "    attributes_most_uncommon += list(df['Attribute'].values)"
   ]
  },
  {
   "cell_type": "code",
   "execution_count": 43,
   "metadata": {},
   "outputs": [
    {
     "name": "stdout",
     "output_type": "stream",
     "text": [
      "['LP_STATUS_FEIN', 'GREEN_AVANTGARDE_1', 'LP_LEBENSPHASE_FEIN', 'GREEN_AVANTGARDE_0', 'HH_EINKOMMEN_SCORE', 'D19_GESAMT_ONLINE_DATUM_1', 'D19_VERSAND_ONLINE_DATUM_1', 'D19_VERSAND_DATUM_9', 'D19_GESAMT_ONLINE_DATUM_9', 'D19_VERSAND_ONLINE_DATUM_9']\n",
      "['ONLINE_AFFINITAET', 'D19_BANKEN_DATUM_10', 'D19_VERSAND_DATUM_10', 'D19_VERSAND_ONLINE_DATUM_10', 'D19_GESAMT_ONLINE_DATUM_10', 'D19_GESAMT_ONLINE_DATUM_1', 'D19_VERSAND_ONLINE_DATUM_1', 'D19_VERSAND_DATUM_1', 'D19_GESAMT_ONLINE_DATUM_5', 'D19_VERSAND_ONLINE_DATUM_5']\n",
      "{'D19_VERSAND_ONLINE_DATUM_1', 'D19_GESAMT_ONLINE_DATUM_1'}\n"
     ]
    }
   ],
   "source": [
    "print(attributes_most_common)\n",
    "print(attributes_most_uncommon)\n",
    "\n",
    "print(set(attributes_most_common).intersection(set(attributes_most_uncommon)))"
   ]
  },
  {
   "cell_type": "markdown",
   "metadata": {},
   "source": [
    "## Part 2: Supervised Learning Model\n",
    "\n",
    "Now that you've found which parts of the population are more likely to be customers of the mail-order company, it's time to build a prediction model. Each of the rows in the \"MAILOUT\" data files represents an individual that was targeted for a mailout campaign. Ideally, we should be able to use the demographic information from each individual to decide whether or not it will be worth it to include that person in the campaign.\n",
    "\n",
    "The \"MAILOUT\" data has been split into two approximately equal parts, each with almost 43 000 data rows. In this part, you can verify your model with the \"TRAIN\" partition, which includes a column, \"RESPONSE\", that states whether or not a person became a customer of the company following the campaign. In the next part, you'll need to create predictions on the \"TEST\" partition, where the \"RESPONSE\" column has been withheld."
   ]
  },
  {
   "cell_type": "code",
   "execution_count": 4,
   "metadata": {},
   "outputs": [],
   "source": [
    "mailout_train = pd.read_csv('../../data/Term2/capstone/arvato_data/Udacity_MAILOUT_052018_TRAIN.csv', sep=';', low_memory=False)"
   ]
  },
  {
   "cell_type": "code",
   "execution_count": 5,
   "metadata": {},
   "outputs": [
    {
     "data": {
      "text/plain": [
       "(42962, 367)"
      ]
     },
     "execution_count": 5,
     "metadata": {},
     "output_type": "execute_result"
    }
   ],
   "source": [
    "mailout_train.shape"
   ]
  },
  {
   "cell_type": "code",
   "execution_count": 6,
   "metadata": {},
   "outputs": [
    {
     "data": {
      "text/html": [
       "<div>\n",
       "<style scoped>\n",
       "    .dataframe tbody tr th:only-of-type {\n",
       "        vertical-align: middle;\n",
       "    }\n",
       "\n",
       "    .dataframe tbody tr th {\n",
       "        vertical-align: top;\n",
       "    }\n",
       "\n",
       "    .dataframe thead th {\n",
       "        text-align: right;\n",
       "    }\n",
       "</style>\n",
       "<table border=\"1\" class=\"dataframe\">\n",
       "  <thead>\n",
       "    <tr style=\"text-align: right;\">\n",
       "      <th></th>\n",
       "      <th>LNR</th>\n",
       "      <th>AGER_TYP</th>\n",
       "      <th>AKT_DAT_KL</th>\n",
       "      <th>ALTER_HH</th>\n",
       "      <th>ALTER_KIND1</th>\n",
       "      <th>ALTER_KIND2</th>\n",
       "      <th>ALTER_KIND3</th>\n",
       "      <th>ALTER_KIND4</th>\n",
       "      <th>ALTERSKATEGORIE_FEIN</th>\n",
       "      <th>ANZ_HAUSHALTE_AKTIV</th>\n",
       "      <th>...</th>\n",
       "      <th>VK_DHT4A</th>\n",
       "      <th>VK_DISTANZ</th>\n",
       "      <th>VK_ZG11</th>\n",
       "      <th>W_KEIT_KIND_HH</th>\n",
       "      <th>WOHNDAUER_2008</th>\n",
       "      <th>WOHNLAGE</th>\n",
       "      <th>ZABEOTYP</th>\n",
       "      <th>RESPONSE</th>\n",
       "      <th>ANREDE_KZ</th>\n",
       "      <th>ALTERSKATEGORIE_GROB</th>\n",
       "    </tr>\n",
       "  </thead>\n",
       "  <tbody>\n",
       "    <tr>\n",
       "      <th>0</th>\n",
       "      <td>1763</td>\n",
       "      <td>2</td>\n",
       "      <td>1.0</td>\n",
       "      <td>8.0</td>\n",
       "      <td>NaN</td>\n",
       "      <td>NaN</td>\n",
       "      <td>NaN</td>\n",
       "      <td>NaN</td>\n",
       "      <td>8.0</td>\n",
       "      <td>15.0</td>\n",
       "      <td>...</td>\n",
       "      <td>5.0</td>\n",
       "      <td>2.0</td>\n",
       "      <td>1.0</td>\n",
       "      <td>6.0</td>\n",
       "      <td>9.0</td>\n",
       "      <td>3.0</td>\n",
       "      <td>3</td>\n",
       "      <td>0</td>\n",
       "      <td>2</td>\n",
       "      <td>4</td>\n",
       "    </tr>\n",
       "    <tr>\n",
       "      <th>1</th>\n",
       "      <td>1771</td>\n",
       "      <td>1</td>\n",
       "      <td>4.0</td>\n",
       "      <td>13.0</td>\n",
       "      <td>NaN</td>\n",
       "      <td>NaN</td>\n",
       "      <td>NaN</td>\n",
       "      <td>NaN</td>\n",
       "      <td>13.0</td>\n",
       "      <td>1.0</td>\n",
       "      <td>...</td>\n",
       "      <td>1.0</td>\n",
       "      <td>2.0</td>\n",
       "      <td>1.0</td>\n",
       "      <td>4.0</td>\n",
       "      <td>9.0</td>\n",
       "      <td>7.0</td>\n",
       "      <td>1</td>\n",
       "      <td>0</td>\n",
       "      <td>2</td>\n",
       "      <td>3</td>\n",
       "    </tr>\n",
       "    <tr>\n",
       "      <th>2</th>\n",
       "      <td>1776</td>\n",
       "      <td>1</td>\n",
       "      <td>1.0</td>\n",
       "      <td>9.0</td>\n",
       "      <td>NaN</td>\n",
       "      <td>NaN</td>\n",
       "      <td>NaN</td>\n",
       "      <td>NaN</td>\n",
       "      <td>7.0</td>\n",
       "      <td>0.0</td>\n",
       "      <td>...</td>\n",
       "      <td>6.0</td>\n",
       "      <td>4.0</td>\n",
       "      <td>2.0</td>\n",
       "      <td>NaN</td>\n",
       "      <td>9.0</td>\n",
       "      <td>2.0</td>\n",
       "      <td>3</td>\n",
       "      <td>0</td>\n",
       "      <td>1</td>\n",
       "      <td>4</td>\n",
       "    </tr>\n",
       "    <tr>\n",
       "      <th>3</th>\n",
       "      <td>1460</td>\n",
       "      <td>2</td>\n",
       "      <td>1.0</td>\n",
       "      <td>6.0</td>\n",
       "      <td>NaN</td>\n",
       "      <td>NaN</td>\n",
       "      <td>NaN</td>\n",
       "      <td>NaN</td>\n",
       "      <td>6.0</td>\n",
       "      <td>4.0</td>\n",
       "      <td>...</td>\n",
       "      <td>8.0</td>\n",
       "      <td>11.0</td>\n",
       "      <td>11.0</td>\n",
       "      <td>6.0</td>\n",
       "      <td>9.0</td>\n",
       "      <td>1.0</td>\n",
       "      <td>3</td>\n",
       "      <td>0</td>\n",
       "      <td>2</td>\n",
       "      <td>4</td>\n",
       "    </tr>\n",
       "    <tr>\n",
       "      <th>4</th>\n",
       "      <td>1783</td>\n",
       "      <td>2</td>\n",
       "      <td>1.0</td>\n",
       "      <td>9.0</td>\n",
       "      <td>NaN</td>\n",
       "      <td>NaN</td>\n",
       "      <td>NaN</td>\n",
       "      <td>NaN</td>\n",
       "      <td>9.0</td>\n",
       "      <td>53.0</td>\n",
       "      <td>...</td>\n",
       "      <td>2.0</td>\n",
       "      <td>2.0</td>\n",
       "      <td>1.0</td>\n",
       "      <td>6.0</td>\n",
       "      <td>9.0</td>\n",
       "      <td>3.0</td>\n",
       "      <td>3</td>\n",
       "      <td>0</td>\n",
       "      <td>1</td>\n",
       "      <td>3</td>\n",
       "    </tr>\n",
       "  </tbody>\n",
       "</table>\n",
       "<p>5 rows × 367 columns</p>\n",
       "</div>"
      ],
      "text/plain": [
       "    LNR  AGER_TYP  AKT_DAT_KL  ALTER_HH  ALTER_KIND1  ALTER_KIND2  \\\n",
       "0  1763         2         1.0       8.0          NaN          NaN   \n",
       "1  1771         1         4.0      13.0          NaN          NaN   \n",
       "2  1776         1         1.0       9.0          NaN          NaN   \n",
       "3  1460         2         1.0       6.0          NaN          NaN   \n",
       "4  1783         2         1.0       9.0          NaN          NaN   \n",
       "\n",
       "   ALTER_KIND3  ALTER_KIND4  ALTERSKATEGORIE_FEIN  ANZ_HAUSHALTE_AKTIV  \\\n",
       "0          NaN          NaN                   8.0                 15.0   \n",
       "1          NaN          NaN                  13.0                  1.0   \n",
       "2          NaN          NaN                   7.0                  0.0   \n",
       "3          NaN          NaN                   6.0                  4.0   \n",
       "4          NaN          NaN                   9.0                 53.0   \n",
       "\n",
       "          ...           VK_DHT4A  VK_DISTANZ  VK_ZG11  W_KEIT_KIND_HH  \\\n",
       "0         ...                5.0         2.0      1.0             6.0   \n",
       "1         ...                1.0         2.0      1.0             4.0   \n",
       "2         ...                6.0         4.0      2.0             NaN   \n",
       "3         ...                8.0        11.0     11.0             6.0   \n",
       "4         ...                2.0         2.0      1.0             6.0   \n",
       "\n",
       "   WOHNDAUER_2008  WOHNLAGE  ZABEOTYP RESPONSE ANREDE_KZ ALTERSKATEGORIE_GROB  \n",
       "0             9.0       3.0         3        0         2                    4  \n",
       "1             9.0       7.0         1        0         2                    3  \n",
       "2             9.0       2.0         3        0         1                    4  \n",
       "3             9.0       1.0         3        0         2                    4  \n",
       "4             9.0       3.0         3        0         1                    3  \n",
       "\n",
       "[5 rows x 367 columns]"
      ]
     },
     "execution_count": 6,
     "metadata": {},
     "output_type": "execute_result"
    }
   ],
   "source": [
    "mailout_train.head()"
   ]
  },
  {
   "cell_type": "markdown",
   "metadata": {},
   "source": [
    "The train data set has the same columns as the azdias data set and an additional traget column. I will save this in a variable and remove it along with the column LNR from the dataframe."
   ]
  },
  {
   "cell_type": "code",
   "execution_count": 8,
   "metadata": {},
   "outputs": [],
   "source": [
    "y = mailout_train['RESPONSE']\n",
    "mailout_train.drop(['RESPONSE', 'LNR'], inplace = True, axis=1)"
   ]
  },
  {
   "cell_type": "code",
   "execution_count": 9,
   "metadata": {},
   "outputs": [
    {
     "data": {
      "text/plain": [
       "(42962, 365)"
      ]
     },
     "execution_count": 9,
     "metadata": {},
     "output_type": "execute_result"
    }
   ],
   "source": [
    "mailout_train.shape"
   ]
  },
  {
   "cell_type": "markdown",
   "metadata": {},
   "source": [
    "Selecting only those variables that are containted in the DIAS Attributes file."
   ]
  },
  {
   "cell_type": "code",
   "execution_count": 10,
   "metadata": {},
   "outputs": [
    {
     "data": {
      "text/plain": [
       "(42962, 272)"
      ]
     },
     "execution_count": 10,
     "metadata": {},
     "output_type": "execute_result"
    }
   ],
   "source": [
    "attributes_metdata = pd.read_excel('DIAS Attributes - Values 2017.xlsx')\n",
    "attributes_metdata.drop(['Unnamed: 0'], axis = 1, inplace = True)\n",
    "attributes_metdata.columns = [\"Attribute\", \"Description\", \"Value\", \"Meaning\"]\n",
    "\n",
    "attributes_columns = {elem for elem in attributes_metdata['Attribute']}\n",
    "columns_to_keep = mailout_train.columns.intersection(attributes_columns)\n",
    "columns_to_keep = [elem for elem in columns_to_keep]\n",
    "\n",
    "mailout_train = mailout_train[columns_to_keep]\n",
    "\n",
    "mailout_train.shape"
   ]
  },
  {
   "cell_type": "markdown",
   "metadata": {},
   "source": [
    "Now I want do extract the values with the meaning \"unknown\" or for example \"no score calculated\" from the DIAS Attributes file and set the corresponding values in the data frame to NaN."
   ]
  },
  {
   "cell_type": "code",
   "execution_count": 11,
   "metadata": {},
   "outputs": [
    {
     "name": "stderr",
     "output_type": "stream",
     "text": [
      "/opt/conda/lib/python3.6/site-packages/pandas/core/generic.py:5890: SettingWithCopyWarning: \n",
      "A value is trying to be set on a copy of a slice from a DataFrame\n",
      "\n",
      "See the caveats in the documentation: http://pandas.pydata.org/pandas-docs/stable/indexing.html#indexing-view-versus-copy\n",
      "  self._update_inplace(new_data)\n"
     ]
    }
   ],
   "source": [
    "attributes_metdata['Attribute'] = attributes_metdata['Attribute'].fillna(method='ffill')\n",
    "mask =  ~attributes_metdata['Meaning'].isnull() & attributes_metdata['Meaning'].str.contains(\"unknown\") \n",
    "attributes_metdata[mask]\n",
    "\n",
    "df_missing = attributes_metdata[mask]\n",
    "missing_dict = {}\n",
    "\n",
    "for attr in df_missing['Attribute']:\n",
    "    list_curr = []\n",
    "    \n",
    "    row = df_missing[df_missing['Attribute'] == attr]\n",
    "    value = row['Value'].values[0]\n",
    "    \n",
    "    if type(value) is int:\n",
    "        list_curr.append(value)\n",
    "    else:       \n",
    "        list_curr = [int(elem) for elem in value.split(',')]\n",
    "        \n",
    "    missing_dict[attr] = list_curr\n",
    "    \n",
    "for attr in mailout_train.columns:\n",
    "    if attr in missing_dict.keys():\n",
    "        mailout_train[attr].replace(missing_dict[attr], np.nan, inplace=True)"
   ]
  },
  {
   "cell_type": "markdown",
   "metadata": {},
   "source": [
    "Investiogation of missing values."
   ]
  },
  {
   "cell_type": "code",
   "execution_count": 13,
   "metadata": {},
   "outputs": [
    {
     "data": {
      "text/html": [
       "<div>\n",
       "<style scoped>\n",
       "    .dataframe tbody tr th:only-of-type {\n",
       "        vertical-align: middle;\n",
       "    }\n",
       "\n",
       "    .dataframe tbody tr th {\n",
       "        vertical-align: top;\n",
       "    }\n",
       "\n",
       "    .dataframe thead th {\n",
       "        text-align: right;\n",
       "    }\n",
       "</style>\n",
       "<table border=\"1\" class=\"dataframe\">\n",
       "  <thead>\n",
       "    <tr style=\"text-align: right;\">\n",
       "      <th></th>\n",
       "      <th>Attribute</th>\n",
       "      <th>variable</th>\n",
       "      <th>value</th>\n",
       "    </tr>\n",
       "  </thead>\n",
       "  <tbody>\n",
       "    <tr>\n",
       "      <th>0</th>\n",
       "      <td>TITEL_KZ</td>\n",
       "      <td>mailout_train</td>\n",
       "      <td>0.995042</td>\n",
       "    </tr>\n",
       "    <tr>\n",
       "      <th>1</th>\n",
       "      <td>KBA05_BAUMAX</td>\n",
       "      <td>mailout_train</td>\n",
       "      <td>0.534891</td>\n",
       "    </tr>\n",
       "    <tr>\n",
       "      <th>2</th>\n",
       "      <td>AGER_TYP</td>\n",
       "      <td>mailout_train</td>\n",
       "      <td>0.418114</td>\n",
       "    </tr>\n",
       "    <tr>\n",
       "      <th>3</th>\n",
       "      <td>ALTER_HH</td>\n",
       "      <td>mailout_train</td>\n",
       "      <td>0.306713</td>\n",
       "    </tr>\n",
       "    <tr>\n",
       "      <th>4</th>\n",
       "      <td>W_KEIT_KIND_HH</td>\n",
       "      <td>mailout_train</td>\n",
       "      <td>0.242470</td>\n",
       "    </tr>\n",
       "    <tr>\n",
       "      <th>5</th>\n",
       "      <td>REGIOTYP</td>\n",
       "      <td>mailout_train</td>\n",
       "      <td>0.231134</td>\n",
       "    </tr>\n",
       "    <tr>\n",
       "      <th>6</th>\n",
       "      <td>KKK</td>\n",
       "      <td>mailout_train</td>\n",
       "      <td>0.231134</td>\n",
       "    </tr>\n",
       "    <tr>\n",
       "      <th>7</th>\n",
       "      <td>KBA05_KRSAQUOT</td>\n",
       "      <td>mailout_train</td>\n",
       "      <td>0.210209</td>\n",
       "    </tr>\n",
       "    <tr>\n",
       "      <th>8</th>\n",
       "      <td>KBA05_KRSHERST1</td>\n",
       "      <td>mailout_train</td>\n",
       "      <td>0.210209</td>\n",
       "    </tr>\n",
       "    <tr>\n",
       "      <th>9</th>\n",
       "      <td>KBA05_KRSHERST2</td>\n",
       "      <td>mailout_train</td>\n",
       "      <td>0.210209</td>\n",
       "    </tr>\n",
       "    <tr>\n",
       "      <th>10</th>\n",
       "      <td>KBA05_KRSHERST3</td>\n",
       "      <td>mailout_train</td>\n",
       "      <td>0.210209</td>\n",
       "    </tr>\n",
       "    <tr>\n",
       "      <th>11</th>\n",
       "      <td>KBA05_KRSKLEIN</td>\n",
       "      <td>mailout_train</td>\n",
       "      <td>0.210209</td>\n",
       "    </tr>\n",
       "    <tr>\n",
       "      <th>12</th>\n",
       "      <td>KBA05_KRSVAN</td>\n",
       "      <td>mailout_train</td>\n",
       "      <td>0.210209</td>\n",
       "    </tr>\n",
       "    <tr>\n",
       "      <th>13</th>\n",
       "      <td>KBA05_KRSOBER</td>\n",
       "      <td>mailout_train</td>\n",
       "      <td>0.210209</td>\n",
       "    </tr>\n",
       "    <tr>\n",
       "      <th>14</th>\n",
       "      <td>KBA05_HERST4</td>\n",
       "      <td>mailout_train</td>\n",
       "      <td>0.210209</td>\n",
       "    </tr>\n",
       "  </tbody>\n",
       "</table>\n",
       "</div>"
      ],
      "text/plain": [
       "          Attribute       variable     value\n",
       "0          TITEL_KZ  mailout_train  0.995042\n",
       "1      KBA05_BAUMAX  mailout_train  0.534891\n",
       "2          AGER_TYP  mailout_train  0.418114\n",
       "3          ALTER_HH  mailout_train  0.306713\n",
       "4    W_KEIT_KIND_HH  mailout_train  0.242470\n",
       "5          REGIOTYP  mailout_train  0.231134\n",
       "6               KKK  mailout_train  0.231134\n",
       "7    KBA05_KRSAQUOT  mailout_train  0.210209\n",
       "8   KBA05_KRSHERST1  mailout_train  0.210209\n",
       "9   KBA05_KRSHERST2  mailout_train  0.210209\n",
       "10  KBA05_KRSHERST3  mailout_train  0.210209\n",
       "11   KBA05_KRSKLEIN  mailout_train  0.210209\n",
       "12     KBA05_KRSVAN  mailout_train  0.210209\n",
       "13    KBA05_KRSOBER  mailout_train  0.210209\n",
       "14     KBA05_HERST4  mailout_train  0.210209"
      ]
     },
     "execution_count": 13,
     "metadata": {},
     "output_type": "execute_result"
    }
   ],
   "source": [
    "N, p = mailout_train.shape\n",
    "predictors_null = mailout_train.isnull().sum()\n",
    "predictors_null_relative_mailout_train = predictors_null / N\n",
    "\n",
    "df_missing = pd.DataFrame([predictors_null_relative_mailout_train]).T\n",
    "\n",
    "df_missing.columns = [\"mailout_train\"]\n",
    "df_missing['Attribute'] = df_missing.index\n",
    "df_missing_plot = df_missing.sort_values(by=['mailout_train'], ascending=False)[0:15]\n",
    "df_missing_plot = pd.melt(df_missing_plot, id_vars=['Attribute'], value_vars=[ 'mailout_train'])\n",
    "df_missing_plot.head(n=20)"
   ]
  },
  {
   "cell_type": "code",
   "execution_count": 14,
   "metadata": {},
   "outputs": [
    {
     "data": {
      "image/png": "[encoded data removed]",
      "text/plain": [
       "<matplotlib.figure.Figure at 0x7fd48f4d2c50>"
      ]
     },
     "metadata": {
      "needs_background": "light"
     },
     "output_type": "display_data"
    }
   ],
   "source": [
    "#sns.set(style=\"whitegrid\")\n",
    "fig = plt.figure(figsize=(25,10))\n",
    "ax = sns.barplot(x=\"Attribute\", y=\"value\", hue=\"variable\", ci=None, data=df_missing_plot)\n",
    "plt.xticks(rotation=90)\n",
    "ax.set_title(\"attribute with missing values\")\n",
    "fig.savefig('supervised_nas.png', bbox_inches='tight')"
   ]
  },
  {
   "cell_type": "markdown",
   "metadata": {},
   "source": [
    "Selecting only those variables where the percentage of missing values is smaller than 23 %:"
   ]
  },
  {
   "cell_type": "code",
   "execution_count": 15,
   "metadata": {},
   "outputs": [],
   "source": [
    "percentage_of_nas_lead_to_dropping = 0.23\n",
    "df_missing = df_missing.sort_values(by=['mailout_train'], ascending=False)\n",
    "predictors_to_keep = df_missing[df_missing['mailout_train'] < percentage_of_nas_lead_to_dropping].index\n",
    "mailout_train = mailout_train[predictors_to_keep]"
   ]
  },
  {
   "cell_type": "code",
   "execution_count": 16,
   "metadata": {},
   "outputs": [
    {
     "data": {
      "text/plain": [
       "(42962, 265)"
      ]
     },
     "execution_count": 16,
     "metadata": {},
     "output_type": "execute_result"
    }
   ],
   "source": [
    "mailout_train.shape"
   ]
  },
  {
   "cell_type": "markdown",
   "metadata": {},
   "source": [
    "Converting the categorial variables."
   ]
  },
  {
   "cell_type": "code",
   "execution_count": 17,
   "metadata": {},
   "outputs": [],
   "source": [
    "categorial_variables = ['AGER_TYP', 'ANREDE_KZ', 'BIP_FLAG', 'CAMEO_DEUG_2015', 'CAMEO_DEU_2015', 'CAMEO_DEUINTL_2015',\n",
    "'CJT_GESAMTTYP', 'D19_BANKEN_DATUM', 'D19_BANKEN_DIREKT_RZ', 'D19_BANKEN_GROSS_RZ', 'D19_BANKEN_OFFLINE_DATUM',\n",
    "'D19_BANKEN_ONLINE_DATUM', 'D19_BANKEN_REST_RZ', 'D19_BEKLEIDUNG_GEH_RZ', 'D19_BEKLEIDUNG_REST_RZ', \n",
    "'D19_BILDUNG_RZ', 'D19_BIO_OEKO_RZ', 'D19_BUCH_RZ', 'D19_DIGIT_SERV_RZ', 'D19_DROGERIEARTIKEL_RZ', \n",
    "'D19_ENERGIE_RZ', 'D19_FREIZEIT_RZ','D19_GARTEN_RZ',\n",
    "'D19_GESAMT_DATUM,'\n",
    "'D19_GESAMT_OFFLINE_DATUM',\n",
    "'D19_GESAMT_ONLINE_DATUM',\n",
    "'D19_HANDWERK_RZ',\n",
    "'D19_HAUS_DEKO_RZ',\n",
    "'D19_KINDERARTIKEL,RZ',\n",
    "'D19_KONSUMTYP',\n",
    "'D19_KK_KUNDENTYP',\n",
    "'D19_KOSMETIK_RZ',\n",
    "'D19_LEBENSMITTEL_RZ',\n",
    "'D19_LOTTO_RZ',\n",
    "'D19_NAHRUNGSERGAENZUNG_RZ',\n",
    "'D19_RATGEBER_RZ',\n",
    "'D19_REISEN_RZ',\n",
    "'D19_SAMMELARTIKEL_RZ',\n",
    "'D19_SCHUHE_RZ',\n",
    "'D19_SONSTIGE_RZ',\n",
    "'D19_TECHNIK_RZ',\n",
    "'D19_TELKO_DATUM',\n",
    "'D19_TELKO_MOBILE_RZ'\n",
    "'D19_TELKO_OFFLINE_DATUM',\n",
    "'D19_TELKO_ONLINE_DATUM',\n",
    "'D19_TELKO_REST_RZ',\n",
    "'D19_TIERARTIKEL_RZ',\n",
    "'D19_VERSAND_DATUM',\n",
    "'D19_VERSAND_OFFLINE_DATUM',\n",
    "'D19_VERSAND_ONLINE_DATUM',\n",
    "'D19_VERSAND_REST_RZ',\n",
    "'D19_VERSICHERUNGEN_RZ',\n",
    "'D19_VOLLSORTIMENT_RZ',\n",
    "'D19_WEIN_FEINKOST_RZ',\n",
    "'GEBAEUDETYP',\n",
    "'GEBAEUDETYP_RASTER',\n",
    "'GFK_URLAUBERTYP',\n",
    "'GREEN_AVANTGARDE',\n",
    "'HAUSHALTSSTRUKTUR',\n",
    "'HEALTH_TYP',\n",
    "'KBA05_HERSTTEMP'\n",
    "'KBA05_MODTEMP',\n",
    "'KBA05_MAXHERST',\n",
    "'LP_FAMILIE_FEIN',\n",
    "'LP_FAMILIE_GROB',\n",
    "'NATIONALITAET_KZ',\n",
    "'OST_WEST_KZ',\n",
    "'SHOPPER_TYP',\n",
    "'SOHO_FLAG',\n",
    "'TITEL_KZ',\n",
    "'VERS_TYP',\n",
    "'ZABEOTYP']\n",
    "    \n",
    "for attr in mailout_train.columns:\n",
    "    if attr in categorial_variables or (mailout_train.dtypes[attr] != 'float64' and mailout_train.dtypes[attr] != 'int64'):\n",
    "        mailout_train[attr] = mailout_train[attr].astype('category')"
   ]
  },
  {
   "cell_type": "markdown",
   "metadata": {},
   "source": [
    "Now i am done with the preprocessing steps regarding the whole dataset. Everthing that follows now, needs to be performed inside a cross validation loop."
   ]
  },
  {
   "cell_type": "code",
   "execution_count": 18,
   "metadata": {},
   "outputs": [],
   "source": [
    "df_category = mailout_train.select_dtypes(include='category')\n",
    "\n",
    "imp_cat = SimpleImputer(strategy=\"most_frequent\")\n",
    "imp_cat.fit(df_category)\n",
    "\n",
    "df_category = pd.DataFrame(imp_cat.transform(df_category), columns=df_category.columns)\n",
    "df_category = df_category.astype('category')\n",
    "df_category = pd.get_dummies(df_category)\n",
    "\n",
    "df_float = mailout_train.select_dtypes(include=['float64', 'int64'])\n",
    "#imp = KNNImputer(n_neighbors=5, weights=\"uniform\")\n",
    "imp_num = SimpleImputer(missing_values=np.nan, strategy='mean')\n",
    "imp_num.fit(df_float)\n",
    "df_float = pd.DataFrame(imp_num.transform(df_float), columns=df_float.columns)\n",
    "\n",
    "mailout_train = pd.concat([df_category, df_float], axis=1)"
   ]
  },
  {
   "cell_type": "code",
   "execution_count": 19,
   "metadata": {},
   "outputs": [],
   "source": [
    "scaler_mailout_train = StandardScaler()\n",
    "scaler_mailout_train.fit(mailout_train)\n",
    "mailout_train = pd.DataFrame(scaler_mailout_train.transform(mailout_train), columns=mailout_train.columns)"
   ]
  },
  {
   "cell_type": "code",
   "execution_count": 20,
   "metadata": {},
   "outputs": [
    {
     "data": {
      "text/plain": [
       "(42962, 466)"
      ]
     },
     "execution_count": 20,
     "metadata": {},
     "output_type": "execute_result"
    }
   ],
   "source": [
    "mailout_train.shape"
   ]
  },
  {
   "cell_type": "markdown",
   "metadata": {},
   "source": [
    "Inspecting target - vanilla model"
   ]
  },
  {
   "cell_type": "code",
   "execution_count": 22,
   "metadata": {},
   "outputs": [
    {
     "name": "stdout",
     "output_type": "stream",
     "text": [
      "Number of 0:  42430\n",
      "Number of 1:  532\n",
      "0.9876169638284996\n"
     ]
    }
   ],
   "source": [
    "n_0 = len(y[y==0])\n",
    "n_1 = len(y[y==1])\n",
    "\n",
    "print('Number of 0: ', n_0)\n",
    "print('Number of 1: ', n_1)\n",
    "\n",
    "vanilla_acc = n_0 / (n_0 + n_1)\n",
    "print(vanilla_acc)"
   ]
  },
  {
   "cell_type": "markdown",
   "metadata": {},
   "source": [
    "Fitting decision tree"
   ]
  },
  {
   "cell_type": "code",
   "execution_count": 23,
   "metadata": {},
   "outputs": [],
   "source": [
    "clf = DecisionTreeClassifier(random_state=0, max_depth=6, class_weight='balanced')\n",
    "clf.fit(mailout_train.values, y.values)\n",
    "\n",
    "y_pred = clf.predict(mailout_train.values)"
   ]
  },
  {
   "cell_type": "code",
   "execution_count": 24,
   "metadata": {},
   "outputs": [
    {
     "data": {
      "text/plain": [
       "0.68190493924863838"
      ]
     },
     "execution_count": 24,
     "metadata": {},
     "output_type": "execute_result"
    }
   ],
   "source": [
    "from sklearn import metrics\n",
    "metrics.accuracy_score(y.values, y_pred)"
   ]
  },
  {
   "cell_type": "markdown",
   "metadata": {},
   "source": [
    "Splitting test and train set"
   ]
  },
  {
   "cell_type": "code",
   "execution_count": 27,
   "metadata": {},
   "outputs": [],
   "source": [
    "X = mailout_train.values\n",
    "y = y.values\n",
    "X_train, X_test, y_train, y_test = train_test_split(X, y, test_size=0.25, random_state=1, stratify = y)"
   ]
  },
  {
   "cell_type": "code",
   "execution_count": 28,
   "metadata": {},
   "outputs": [
    {
     "name": "stdout",
     "output_type": "stream",
     "text": [
      "Number of 0:  31822\n",
      "Number of 1:  399\n",
      "0.9876167716706495\n"
     ]
    }
   ],
   "source": [
    "n_0 = len(y_train[y_train==0])\n",
    "n_1 = len(y_train[y_train==1])\n",
    "\n",
    "print('Number of 0: ', n_0)\n",
    "print('Number of 1: ', n_1)\n",
    "\n",
    "vanilla_acc = n_0 / (n_0 + n_1)\n",
    "print(vanilla_acc)"
   ]
  },
  {
   "cell_type": "code",
   "execution_count": 29,
   "metadata": {},
   "outputs": [
    {
     "name": "stdout",
     "output_type": "stream",
     "text": [
      "Number of 0:  10608\n",
      "Number of 1:  133\n",
      "0.9876175402662695\n"
     ]
    }
   ],
   "source": [
    "n_0 = len(y_test[y_test==0])\n",
    "n_1 = len(y_test[y_test==1])\n",
    "\n",
    "print('Number of 0: ', n_0)\n",
    "print('Number of 1: ', n_1)\n",
    "\n",
    "vanilla_acc = n_0 / (n_0 + n_1)\n",
    "print(vanilla_acc)"
   ]
  },
  {
   "cell_type": "markdown",
   "metadata": {},
   "source": [
    "Grid Search"
   ]
  },
  {
   "cell_type": "code",
   "execution_count": 31,
   "metadata": {},
   "outputs": [],
   "source": [
    "data = {'AUC': [],\n",
    "       'Model': []}\n",
    "results = pd.DataFrame(data)\n",
    "\n",
    "y_prob_best_clf_test = []\n",
    "y_prob_best_clf_train = []\n",
    "\n",
    "n_cv = 2"
   ]
  },
  {
   "cell_type": "code",
   "execution_count": 32,
   "metadata": {},
   "outputs": [
    {
     "name": "stderr",
     "output_type": "stream",
     "text": [
      "/opt/conda/lib/python3.6/site-packages/sklearn/linear_model/_logistic.py:940: ConvergenceWarning: lbfgs failed to converge (status=1):\n",
      "STOP: TOTAL NO. of ITERATIONS REACHED LIMIT.\n",
      "\n",
      "Increase the number of iterations (max_iter) or scale the data as shown in:\n",
      "    https://scikit-learn.org/stable/modules/preprocessing.html\n",
      "Please also refer to the documentation for alternative solver options:\n",
      "    https://scikit-learn.org/stable/modules/linear_model.html#logistic-regression\n",
      "  extra_warning_msg=_LOGISTIC_SOLVER_CONVERGENCE_MSG)\n",
      "/opt/conda/lib/python3.6/site-packages/sklearn/linear_model/_logistic.py:940: ConvergenceWarning: lbfgs failed to converge (status=1):\n",
      "STOP: TOTAL NO. of ITERATIONS REACHED LIMIT.\n",
      "\n",
      "Increase the number of iterations (max_iter) or scale the data as shown in:\n",
      "    https://scikit-learn.org/stable/modules/preprocessing.html\n",
      "Please also refer to the documentation for alternative solver options:\n",
      "    https://scikit-learn.org/stable/modules/linear_model.html#logistic-regression\n",
      "  extra_warning_msg=_LOGISTIC_SOLVER_CONVERGENCE_MSG)\n",
      "/opt/conda/lib/python3.6/site-packages/sklearn/linear_model/_logistic.py:940: ConvergenceWarning: lbfgs failed to converge (status=1):\n",
      "STOP: TOTAL NO. of ITERATIONS REACHED LIMIT.\n",
      "\n",
      "Increase the number of iterations (max_iter) or scale the data as shown in:\n",
      "    https://scikit-learn.org/stable/modules/preprocessing.html\n",
      "Please also refer to the documentation for alternative solver options:\n",
      "    https://scikit-learn.org/stable/modules/linear_model.html#logistic-regression\n",
      "  extra_warning_msg=_LOGISTIC_SOLVER_CONVERGENCE_MSG)\n",
      "/opt/conda/lib/python3.6/site-packages/sklearn/linear_model/_logistic.py:940: ConvergenceWarning: lbfgs failed to converge (status=1):\n",
      "STOP: TOTAL NO. of ITERATIONS REACHED LIMIT.\n",
      "\n",
      "Increase the number of iterations (max_iter) or scale the data as shown in:\n",
      "    https://scikit-learn.org/stable/modules/preprocessing.html\n",
      "Please also refer to the documentation for alternative solver options:\n",
      "    https://scikit-learn.org/stable/modules/linear_model.html#logistic-regression\n",
      "  extra_warning_msg=_LOGISTIC_SOLVER_CONVERGENCE_MSG)\n",
      "/opt/conda/lib/python3.6/site-packages/sklearn/linear_model/_logistic.py:940: ConvergenceWarning: lbfgs failed to converge (status=1):\n",
      "STOP: TOTAL NO. of ITERATIONS REACHED LIMIT.\n",
      "\n",
      "Increase the number of iterations (max_iter) or scale the data as shown in:\n",
      "    https://scikit-learn.org/stable/modules/preprocessing.html\n",
      "Please also refer to the documentation for alternative solver options:\n",
      "    https://scikit-learn.org/stable/modules/linear_model.html#logistic-regression\n",
      "  extra_warning_msg=_LOGISTIC_SOLVER_CONVERGENCE_MSG)\n"
     ]
    },
    {
     "name": "stdout",
     "output_type": "stream",
     "text": [
      "Logistic Regression\n",
      "{'class_weight': 'balanced', 'penalty': 'l2', 'random_state': 0}\n"
     ]
    },
    {
     "name": "stderr",
     "output_type": "stream",
     "text": [
      "/opt/conda/lib/python3.6/site-packages/sklearn/linear_model/_logistic.py:940: ConvergenceWarning: lbfgs failed to converge (status=1):\n",
      "STOP: TOTAL NO. of ITERATIONS REACHED LIMIT.\n",
      "\n",
      "Increase the number of iterations (max_iter) or scale the data as shown in:\n",
      "    https://scikit-learn.org/stable/modules/preprocessing.html\n",
      "Please also refer to the documentation for alternative solver options:\n",
      "    https://scikit-learn.org/stable/modules/linear_model.html#logistic-regression\n",
      "  extra_warning_msg=_LOGISTIC_SOLVER_CONVERGENCE_MSG)\n"
     ]
    }
   ],
   "source": [
    "model = 'Logistic Regression'\n",
    "\n",
    "grid = {'penalty': ['l2', 'none'],\n",
    "        'class_weight': ['balanced'],\n",
    "       'random_state': [0]}\n",
    "\n",
    "clf = GridSearchCV(LogisticRegression(max_iter=150), grid, cv=n_cv, scoring = 'roc_auc')\n",
    "clf.fit(X_train, y_train)\n",
    "\n",
    "\n",
    "data = {'AUC': clf.best_score_,\n",
    "       'Model': model}\n",
    "results = results.append(data, ignore_index=True)\n",
    "\n",
    "print(model)\n",
    "print(clf.best_params_)\n",
    "\n",
    "clf = clf.best_estimator_\n",
    "clf.fit(X_train, y_train)\n",
    "\n",
    "y_prob_best_clf_test.append(clf.predict_proba(X_test)[:,1])  \n",
    "y_prob_best_clf_train.append(clf.predict_proba(X_train)[:,1]) "
   ]
  },
  {
   "cell_type": "code",
   "execution_count": 33,
   "metadata": {},
   "outputs": [
    {
     "name": "stdout",
     "output_type": "stream",
     "text": [
      "Random Forest\n",
      "{'class_weight': 'balanced', 'max_depth': 4, 'n_estimators': 50, 'random_state': 0}\n"
     ]
    }
   ],
   "source": [
    "model = 'Random Forest'\n",
    "\n",
    "grid = {'max_depth': [2, 4],\n",
    "        'n_estimators': [50, 100],\n",
    "        'class_weight': ['balanced'], \n",
    "        'random_state': [0]}\n",
    "\n",
    "clf = GridSearchCV(RandomForestClassifier(), grid, cv=n_cv, scoring = 'roc_auc')\n",
    "clf.fit(X_train, y_train)\n",
    "\n",
    "\n",
    "data = {'AUC': clf.best_score_,\n",
    "       'Model': model}\n",
    "results = results.append(data, ignore_index=True)\n",
    "\n",
    "print(model)\n",
    "print(clf.best_params_)\n",
    "\n",
    "clf = clf.best_estimator_\n",
    "clf.fit(X_train, y_train)\n",
    "\n",
    "y_prob_best_clf_test.append(clf.predict_proba(X_test)[:,1])  \n",
    "y_prob_best_clf_train.append(clf.predict_proba(X_train)[:,1])  "
   ]
  },
  {
   "cell_type": "code",
   "execution_count": 34,
   "metadata": {},
   "outputs": [
    {
     "name": "stdout",
     "output_type": "stream",
     "text": [
      "Ada Boost\n",
      "{'learning_rate': 0.1, 'n_estimators': 100, 'random_state': 0}\n"
     ]
    }
   ],
   "source": [
    "model = 'Ada Boost'\n",
    "\n",
    "grid = {'n_estimators': [50, 100],\n",
    "        'learning_rate': [0.1, 0.8],\n",
    "        'random_state': [0]}\n",
    "\n",
    "clf = GridSearchCV(AdaBoostClassifier(), grid, cv=n_cv, scoring = 'roc_auc')\n",
    "clf.fit(X_train, y_train)\n",
    "\n",
    "\n",
    "data = {'AUC': clf.best_score_,\n",
    "       'Model': model}\n",
    "results = results.append(data, ignore_index=True)\n",
    "\n",
    "print(model)\n",
    "print(clf.best_params_)\n",
    "\n",
    "clf = clf.best_estimator_\n",
    "clf.fit(X_train, y_train)\n",
    "\n",
    "y_prob_best_clf_test.append(clf.predict_proba(X_test)[:,1])  \n",
    "y_prob_best_clf_train.append(clf.predict_proba(X_train)[:,1]) "
   ]
  },
  {
   "cell_type": "code",
   "execution_count": 38,
   "metadata": {},
   "outputs": [
    {
     "name": "stdout",
     "output_type": "stream",
     "text": [
      "GB\n",
      "{'learning_rate': 0.1, 'max_depth': 2, 'n_estimators': 100, 'random_state': 0, 'subsample': 0.75}\n"
     ]
    }
   ],
   "source": [
    "model = 'GB'\n",
    "\n",
    "grid = {'max_depth': [2, 4],\n",
    "    'n_estimators': [50, 100],\n",
    "    'subsample': [0.75, 1],\n",
    "       'learning_rate': [0.1, 1],\n",
    "        'random_state': [0]}\n",
    "\n",
    "clf = GridSearchCV(GradientBoostingClassifier(), grid, cv=n_cv, scoring = 'roc_auc', n_jobs=1)\n",
    "clf.fit(X_train, y_train)\n",
    "\n",
    "\n",
    "data = {'AUC': clf.best_score_,\n",
    "       'Model': model}\n",
    "results = results.append(data, ignore_index=True)\n",
    "\n",
    "print(model)\n",
    "print(clf.best_params_)\n",
    "\n",
    "clf = clf.best_estimator_\n",
    "clf.fit(X_train, y_train)\n",
    "\n",
    "y_prob_best_clf_test.append(clf.predict_proba(X_test)[:,1])  \n",
    "y_prob_best_clf_train.append(clf.predict_proba(X_train)[:,1])"
   ]
  },
  {
   "cell_type": "code",
   "execution_count": 39,
   "metadata": {},
   "outputs": [
    {
     "data": {
      "text/html": [
       "<div>\n",
       "<style scoped>\n",
       "    .dataframe tbody tr th:only-of-type {\n",
       "        vertical-align: middle;\n",
       "    }\n",
       "\n",
       "    .dataframe tbody tr th {\n",
       "        vertical-align: top;\n",
       "    }\n",
       "\n",
       "    .dataframe thead th {\n",
       "        text-align: right;\n",
       "    }\n",
       "</style>\n",
       "<table border=\"1\" class=\"dataframe\">\n",
       "  <thead>\n",
       "    <tr style=\"text-align: right;\">\n",
       "      <th></th>\n",
       "      <th>AUC</th>\n",
       "      <th>Model</th>\n",
       "    </tr>\n",
       "  </thead>\n",
       "  <tbody>\n",
       "    <tr>\n",
       "      <th>3</th>\n",
       "      <td>0.613211</td>\n",
       "      <td>GB</td>\n",
       "    </tr>\n",
       "    <tr>\n",
       "      <th>1</th>\n",
       "      <td>0.588766</td>\n",
       "      <td>Random Forest</td>\n",
       "    </tr>\n",
       "    <tr>\n",
       "      <th>2</th>\n",
       "      <td>0.588482</td>\n",
       "      <td>Ada Boost</td>\n",
       "    </tr>\n",
       "    <tr>\n",
       "      <th>0</th>\n",
       "      <td>0.565261</td>\n",
       "      <td>Logistic Regression</td>\n",
       "    </tr>\n",
       "  </tbody>\n",
       "</table>\n",
       "</div>"
      ],
      "text/plain": [
       "        AUC                Model\n",
       "3  0.613211                   GB\n",
       "1  0.588766        Random Forest\n",
       "2  0.588482            Ada Boost\n",
       "0  0.565261  Logistic Regression"
      ]
     },
     "execution_count": 39,
     "metadata": {},
     "output_type": "execute_result"
    }
   ],
   "source": [
    "results.sort_values(by='AUC', ascending=False).head()"
   ]
  },
  {
   "cell_type": "markdown",
   "metadata": {},
   "source": [
    "Calibration plot"
   ]
  },
  {
   "cell_type": "code",
   "execution_count": 40,
   "metadata": {},
   "outputs": [],
   "source": [
    "n_bins = 10"
   ]
  },
  {
   "cell_type": "code",
   "execution_count": 41,
   "metadata": {},
   "outputs": [
    {
     "data": {
      "image/png": "[encoded data removed]",
      "text/plain": [
       "<matplotlib.figure.Figure at 0x7fd48c7bf358>"
      ]
     },
     "metadata": {
      "needs_background": "light"
     },
     "output_type": "display_data"
    },
    {
     "data": {
      "image/png": "[encoded data removed]",
      "text/plain": [
       "<matplotlib.figure.Figure at 0x7fd48c7d59b0>"
      ]
     },
     "metadata": {
      "needs_background": "light"
     },
     "output_type": "display_data"
    }
   ],
   "source": [
    "fig = plt.figure(figsize=(10, 10))\n",
    "\n",
    "plt.plot([0, 1], [0, 1], \"k:\", label=\"Perfectly calibrated\")\n",
    "\n",
    "\n",
    "for i in range(len(y_prob_best_clf_train)):\n",
    "    fraction_of_positives, mean_predicted_value = calibration_curve(y_train, y_prob_best_clf_train[i], n_bins=n_bins)\n",
    "    name = results.iloc[i]['Model']\n",
    "    \n",
    "    plt.plot(mean_predicted_value, fraction_of_positives, \"s-\",\n",
    "                 label=\"%s\" % (name, ))\n",
    "\n",
    "plt.xlim(-0.05, 1.05)\n",
    "plt.xticks(np.arange(0, 1.1, step=0.1))\n",
    "plt.yticks(np.arange(0, 1.1, step=0.1))\n",
    "\n",
    "plt.xlabel('Mean predicted value')\n",
    "plt.ylabel('Fraction of positives')\n",
    "plt.title('calibration plot train set')\n",
    "plt.legend(loc=\"upper left\")\n",
    "fig.savefig('calib_train.png', bbox_inches='tight')\n",
    "\n",
    "\n",
    "\n",
    "fig = plt.figure(figsize=(10, 10))\n",
    "\n",
    "plt.plot([0, 1], [0, 1], \"k:\", label=\"Perfectly calibrated\")\n",
    "\n",
    "\n",
    "for i in range(len(y_prob_best_clf_test)):\n",
    "    fraction_of_positives, mean_predicted_value = calibration_curve(y_test, y_prob_best_clf_test[i], n_bins=n_bins)\n",
    "    name = results.iloc[i]['Model']\n",
    "    \n",
    "    plt.plot(mean_predicted_value, fraction_of_positives, \"s-\",\n",
    "                 label=\"%s\" % (name, ))\n",
    "\n",
    "plt.xlim(-0.05, 1.05)\n",
    "plt.xticks(np.arange(0, 1.1, step=0.1))\n",
    "plt.yticks(np.arange(0, 1.1, step=0.1))\n",
    "\n",
    "plt.xlabel('Mean predicted value')\n",
    "plt.ylabel('Fraction of positives')\n",
    "plt.title('calibration plot test set')\n",
    "plt.legend(loc=\"upper left\")\n",
    "fig.savefig('calib_test.png', bbox_inches='tight')"
   ]
  },
  {
   "cell_type": "markdown",
   "metadata": {},
   "source": [
    "## Part 3: Kaggle Competition\n",
    "\n",
    "Now that you've created a model to predict which individuals are most likely to respond to a mailout campaign, it's time to test that model in competition through Kaggle. If you click on the link [here](http://www.kaggle.com/t/21e6d45d4c574c7fa2d868f0e8c83140), you'll be taken to the competition page where, if you have a Kaggle account, you can enter. If you're one of the top performers, you may have the chance to be contacted by a hiring manager from Arvato or Bertelsmann for an interview!\n",
    "\n",
    "Your entry to the competition should be a CSV file with two columns. The first column should be a copy of \"LNR\", which acts as an ID number for each individual in the \"TEST\" partition. The second column, \"RESPONSE\", should be some measure of how likely each individual became a customer – this might not be a straightforward probability. As you should have found in Part 2, there is a large output class imbalance, where most individuals did not respond to the mailout. Thus, predicting individual classes and using accuracy does not seem to be an appropriate performance evaluation method. Instead, the competition will be using AUC to evaluate performance. The exact values of the \"RESPONSE\" column do not matter as much: only that the higher values try to capture as many of the actual customers as possible, early in the ROC curve sweep."
   ]
  },
  {
   "cell_type": "code",
   "execution_count": 43,
   "metadata": {},
   "outputs": [],
   "source": [
    "mailout_test = pd.read_csv('../../data/Term2/capstone/arvato_data/Udacity_MAILOUT_052018_TEST.csv', sep=';', low_memory=False)"
   ]
  },
  {
   "cell_type": "markdown",
   "metadata": {},
   "source": [
    "Getting ids for the result."
   ]
  },
  {
   "cell_type": "code",
   "execution_count": 44,
   "metadata": {},
   "outputs": [],
   "source": [
    "LNR = mailout_test['LNR']"
   ]
  },
  {
   "cell_type": "markdown",
   "metadata": {},
   "source": [
    "Performing the preprocessing as in part 2. Note that i use the transformers that where fittet with the training set."
   ]
  },
  {
   "cell_type": "code",
   "execution_count": 45,
   "metadata": {},
   "outputs": [
    {
     "name": "stdout",
     "output_type": "stream",
     "text": [
      "\"['Unnamed: 0'] not found in axis\"\n"
     ]
    }
   ],
   "source": [
    "try:\n",
    "    mailout_test.drop(['LNR', 'Unnamed: 0'], inplace = True, axis=1)\n",
    "    mailout_test = mailout_test[columns_to_keep]\n",
    "    mailout_test = mailout_test[predictors_to_keep]\n",
    "\n",
    "    for attr in mailout_test.columns:\n",
    "        if attr in categorial_variables or (mailout_test.dtypes[attr] != 'float64' and mailout_test.dtypes[attr] != 'int64'):\n",
    "            mailout_test[attr] = mailout_test[attr].astype('category')\n",
    "\n",
    "    df_category = mailout_test.select_dtypes(include='category')\n",
    "\n",
    "\n",
    "    df_category = pd.DataFrame(imp_cat.transform(df_category), columns=df_category.columns)\n",
    "    df_category = df_category.astype('category')\n",
    "    df_category = pd.get_dummies(df_category)\n",
    "\n",
    "\n",
    "    df_float = mailout_test.select_dtypes(include=['float64', 'int64'])\n",
    "\n",
    "\n",
    "    df_float = pd.DataFrame(imp_num.transform(df_float), columns=df_float.columns)\n",
    "    mailout_test = pd.concat([df_category, df_float], axis=1)\n",
    "\n",
    "    mailout_test = pd.DataFrame(scaler_mailout_train.transform(mailout_test), columns=mailout_test.columns)\n",
    "except Exception as e:\n",
    "    print(e)"
   ]
  },
  {
   "cell_type": "markdown",
   "metadata": {},
   "source": [
    "I run into an error, because in the test set there are new values of some cateogrial variables. As all valid values of the variables are stated in the DIAS Attriutes files, it is valied to include the occourances already in the train set. I wil refit the train sets scalers and them transform the test set respectivly."
   ]
  },
  {
   "cell_type": "code",
   "execution_count": 56,
   "metadata": {},
   "outputs": [
    {
     "name": "stdout",
     "output_type": "stream",
     "text": [
      "category\n",
      "(42962, 27)\n",
      "(42833, 27)\n",
      "float\n",
      "(42962, 238)\n",
      "(42833, 238)\n",
      "whole\n",
      "(42962, 471)\n",
      "(42833, 471)\n",
      "0\n",
      "0\n"
     ]
    }
   ],
   "source": [
    "#train set\n",
    "mailout_train = pd.read_csv('../../data/Term2/capstone/arvato_data/Udacity_MAILOUT_052018_TRAIN.csv',\n",
    "                          sep=';', low_memory=False)\n",
    "y = mailout_train['RESPONSE']\n",
    "\n",
    "mailout_train.drop(['LNR', 'RESPONSE'], inplace = True, axis=1)\n",
    "mailout_train = mailout_train[columns_to_keep]\n",
    "mailout_train = mailout_train[predictors_to_keep]\n",
    "\n",
    "for attr in mailout_train.columns:\n",
    "    if attr in categorial_variables or (mailout_train.dtypes[attr] != 'float64' and mailout_train.dtypes[attr] != 'int64'):\n",
    "        mailout_train[attr] = mailout_train[attr].astype('category')\n",
    "\n",
    "df_category_train = mailout_train.select_dtypes(include='category')\n",
    "df_float_train = mailout_train.select_dtypes(include=['float64', 'int64'])\n",
    "N, _ = df_category_train.shape\n",
    "\n",
    "# test set\n",
    "mailout_test = pd.read_csv('../../data/Term2/capstone/arvato_data/Udacity_MAILOUT_052018_TEST.csv',\n",
    "                            sep=';', low_memory=False)\n",
    "\n",
    "mailout_test.drop(['LNR'], inplace = True, axis=1)\n",
    "mailout_test = mailout_test[columns_to_keep]\n",
    "mailout_test = mailout_test[predictors_to_keep]\n",
    "\n",
    "for attr in mailout_test.columns:\n",
    "    if attr in categorial_variables or (mailout_test.dtypes[attr] != 'float64' and mailout_test.dtypes[attr] != 'int64'):\n",
    "        mailout_test[attr] = mailout_test[attr].astype('category')\n",
    "\n",
    "df_category_test = mailout_test.select_dtypes(include='category')\n",
    "df_float_test = mailout_test.select_dtypes(include=['float64', 'int64'])\n",
    "\n",
    "\n",
    "# imputing floats\n",
    "imp_num = SimpleImputer(missing_values=np.nan, strategy='mean')\n",
    "imp_num.fit(df_float_train)\n",
    "df_float_train = pd.DataFrame(imp_num.transform(df_float_train), columns=df_float_train.columns)\n",
    "df_float_test = pd.DataFrame(imp_num.transform(df_float_test), columns=df_float_test.columns)\n",
    "\n",
    "\n",
    "# imputing categories\n",
    "df_category_whole = df_category_train.append(df_category_test)\n",
    "\n",
    "imp_cat = SimpleImputer(strategy=\"most_frequent\")\n",
    "imp_cat.fit(df_category_whole)\n",
    "\n",
    "df_category_whole = pd.DataFrame(imp_cat.transform(df_category_whole), columns=df_category_whole.columns)\n",
    "df_category_whole = df_category_whole.astype('category')\n",
    "\n",
    "df_category_train = df_category_whole[0:N]\n",
    "df_category_test = df_category_whole[N:]\n",
    "\n",
    "\n",
    "\n",
    "# dummies\n",
    "\n",
    "print(\"category\")\n",
    "print(df_category_train.shape)\n",
    "print(df_category_test.shape)\n",
    "\n",
    "print(\"float\")\n",
    "print(df_float_train.shape)\n",
    "print(df_float_test.shape)\n",
    "\n",
    "\n",
    "\n",
    "df_category_train = pd.get_dummies(df_category_train)\n",
    "df_category_test = pd.get_dummies(df_category_test)\n",
    "\n",
    "\n",
    "mailout_train = pd.concat([df_category_train.reset_index(drop=True), df_float_train], axis=1)\n",
    "mailout_test = pd.concat([df_category_test.reset_index(drop=True), df_float_test], axis=1)\n",
    "\n",
    "\n",
    "\n",
    "print('whole')\n",
    "print(mailout_train.shape)\n",
    "print(mailout_test.shape)\n",
    "\n",
    "\n",
    "print(mailout_train.isnull().sum().sum())\n",
    "print(mailout_test.isnull().sum().sum())\n"
   ]
  },
  {
   "cell_type": "markdown",
   "metadata": {},
   "source": [
    "Fitting the best model with the whole trainig data and predict the test set. Creating the final data frame with the column LNR and saving it as a csv file to upload it to kaggle."
   ]
  },
  {
   "cell_type": "code",
   "execution_count": 57,
   "metadata": {},
   "outputs": [
    {
     "data": {
      "text/html": [
       "<div>\n",
       "<style scoped>\n",
       "    .dataframe tbody tr th:only-of-type {\n",
       "        vertical-align: middle;\n",
       "    }\n",
       "\n",
       "    .dataframe tbody tr th {\n",
       "        vertical-align: top;\n",
       "    }\n",
       "\n",
       "    .dataframe thead th {\n",
       "        text-align: right;\n",
       "    }\n",
       "</style>\n",
       "<table border=\"1\" class=\"dataframe\">\n",
       "  <thead>\n",
       "    <tr style=\"text-align: right;\">\n",
       "      <th></th>\n",
       "      <th>LNR</th>\n",
       "      <th>RESPONSE</th>\n",
       "    </tr>\n",
       "  </thead>\n",
       "  <tbody>\n",
       "    <tr>\n",
       "      <th>0</th>\n",
       "      <td>1754</td>\n",
       "      <td>0.016944</td>\n",
       "    </tr>\n",
       "    <tr>\n",
       "      <th>1</th>\n",
       "      <td>1770</td>\n",
       "      <td>0.017887</td>\n",
       "    </tr>\n",
       "    <tr>\n",
       "      <th>2</th>\n",
       "      <td>1465</td>\n",
       "      <td>0.006979</td>\n",
       "    </tr>\n",
       "    <tr>\n",
       "      <th>3</th>\n",
       "      <td>1470</td>\n",
       "      <td>0.004261</td>\n",
       "    </tr>\n",
       "    <tr>\n",
       "      <th>4</th>\n",
       "      <td>1478</td>\n",
       "      <td>0.009082</td>\n",
       "    </tr>\n",
       "  </tbody>\n",
       "</table>\n",
       "</div>"
      ],
      "text/plain": [
       "    LNR  RESPONSE\n",
       "0  1754  0.016944\n",
       "1  1770  0.017887\n",
       "2  1465  0.006979\n",
       "3  1470  0.004261\n",
       "4  1478  0.009082"
      ]
     },
     "execution_count": 57,
     "metadata": {},
     "output_type": "execute_result"
    }
   ],
   "source": [
    "X = mailout_train.values\n",
    "\n",
    "X_test = mailout_test.values\n",
    "\n",
    "clf = GradientBoostingClassifier(max_depth = 2, n_estimators = 100, subsample = 0.75, learning_rate = 0.1, random_state = 0)\n",
    "clf.fit(X, y.values)\n",
    "\n",
    "y_probabilites = clf.predict_proba(X_test)[:,1]\n",
    "\n",
    "\n",
    "final = pd.DataFrame({'LNR': LNR.astype(np.int32), 'RESPONSE':y_probabilites})\n",
    "final.to_csv('final.csv', index = False)\n",
    "final.head()"
   ]
  }
 ],
 "metadata": {
  "kernelspec": {
   "display_name": "Python 3",
   "language": "python",
   "name": "python3"
  },
  "language_info": {
   "codemirror_mode": {
    "name": "ipython",
    "version": 3
   },
   "file_extension": ".py",
   "mimetype": "text/x-python",
   "name": "python",
   "nbconvert_exporter": "python",
   "pygments_lexer": "ipython3",
   "version": "3.6.3"
  }
 },
 "nbformat": 4,
 "nbformat_minor": 2
}
